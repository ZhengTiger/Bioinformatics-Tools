{
 "cells": [
  {
   "cell_type": "markdown",
   "id": "ac69716a",
   "metadata": {
    "toc": true
   },
   "source": [
    "<h1>Table of Contents<span class=\"tocSkip\"></span></h1>\n",
    "<div class=\"toc\"><ul class=\"toc-item\"><li><span><a href=\"#4.1.-NumPy-indexing\" data-toc-modified-id=\"4.1.-NumPy-indexing-1\">4.1. NumPy indexing</a></span></li><li><span><a href=\"#4.2.-Color-images\" data-toc-modified-id=\"4.2.-Color-images-2\">4.2. Color images</a></span></li><li><span><a href=\"#4.3.-Coordinate-conventions\" data-toc-modified-id=\"4.3.-Coordinate-conventions-3\">4.3. Coordinate conventions</a></span></li><li><span><a href=\"#4.4.-Notes-on-the-order-of-array-dimensions\" data-toc-modified-id=\"4.4.-Notes-on-the-order-of-array-dimensions-4\">4.4. Notes on the order of array dimensions</a></span></li><li><span><a href=\"#4.5.-A-note-on-the-time-dimension\" data-toc-modified-id=\"4.5.-A-note-on-the-time-dimension-5\">4.5. A note on the time dimension</a></span></li></ul></div>"
   ]
  },
  {
   "cell_type": "markdown",
   "id": "58a97490",
   "metadata": {},
   "source": [
    "# 4. A crash course on NumPy for images"
   ]
  },
  {
   "cell_type": "markdown",
   "id": "296e51fc",
   "metadata": {},
   "source": [
    "`scikit-image` 中的图像由 NumPy ndarrays 表示。因此，可以使用标准 NumPy 方法来操作 arrays 来实现许多常见操作："
   ]
  },
  {
   "cell_type": "code",
   "execution_count": 3,
   "id": "e2c161ed",
   "metadata": {},
   "outputs": [
    {
     "data": {
      "text/plain": [
       "numpy.ndarray"
      ]
     },
     "execution_count": 3,
     "metadata": {},
     "output_type": "execute_result"
    }
   ],
   "source": [
    "from skimage import data\n",
    "camera = data.camera()\n",
    "type(camera)"
   ]
  },
  {
   "cell_type": "code",
   "execution_count": null,
   "id": "3963f78c",
   "metadata": {},
   "outputs": [],
   "source": [
    "检索图像的几何形状和像素数："
   ]
  },
  {
   "cell_type": "code",
   "execution_count": 2,
   "id": "8c615ce0",
   "metadata": {},
   "outputs": [
    {
     "data": {
      "text/plain": [
       "(512, 512)"
      ]
     },
     "execution_count": 2,
     "metadata": {},
     "output_type": "execute_result"
    }
   ],
   "source": [
    "camera.shape"
   ]
  },
  {
   "cell_type": "code",
   "execution_count": 3,
   "id": "6cf2ded7",
   "metadata": {},
   "outputs": [
    {
     "data": {
      "text/plain": [
       "262144"
      ]
     },
     "execution_count": 3,
     "metadata": {},
     "output_type": "execute_result"
    }
   ],
   "source": [
    "camera.size"
   ]
  },
  {
   "cell_type": "markdown",
   "id": "c2a54735",
   "metadata": {},
   "source": [
    "检索有关图像强度值的统计信息："
   ]
  },
  {
   "cell_type": "code",
   "execution_count": 4,
   "id": "b02bf7f9",
   "metadata": {},
   "outputs": [
    {
     "data": {
      "text/plain": [
       "(0, 255)"
      ]
     },
     "execution_count": 4,
     "metadata": {},
     "output_type": "execute_result"
    }
   ],
   "source": [
    "camera.min(), camera.max()"
   ]
  },
  {
   "cell_type": "code",
   "execution_count": 5,
   "id": "74ff00f3",
   "metadata": {},
   "outputs": [
    {
     "data": {
      "text/plain": [
       "129.06072616577148"
      ]
     },
     "execution_count": 5,
     "metadata": {},
     "output_type": "execute_result"
    }
   ],
   "source": [
    "camera.mean()"
   ]
  },
  {
   "cell_type": "markdown",
   "id": "4dd4da3f",
   "metadata": {},
   "source": [
    "表示图像的 NumPy 数组可以是不同的整数或浮点数值类型。有关这些类型以及 `scikit-image` 如何处理它们的更多信息，请参阅 [Image data types and what they mean](https://scikit-image.org/docs/stable/user_guide/data_types.html#data-types)。"
   ]
  },
  {
   "cell_type": "markdown",
   "id": "2cef1c0f",
   "metadata": {},
   "source": [
    "## 4.1. NumPy indexing"
   ]
  },
  {
   "cell_type": "markdown",
   "id": "81067ef0",
   "metadata": {},
   "source": [
    "NumPy 索引既可用于查看像素值，也可用于修改它们："
   ]
  },
  {
   "cell_type": "code",
   "execution_count": 6,
   "id": "2ae85117",
   "metadata": {},
   "outputs": [
    {
     "data": {
      "text/plain": [
       "200"
      ]
     },
     "execution_count": 6,
     "metadata": {},
     "output_type": "execute_result"
    }
   ],
   "source": [
    "# Get the value of the pixel at the 10th row and 20th column\n",
    "camera[10, 20]"
   ]
  },
  {
   "cell_type": "code",
   "execution_count": 7,
   "id": "fa621433",
   "metadata": {},
   "outputs": [],
   "source": [
    "# Set to black the pixel at the 3rd row and 10th column\n",
    "camera[3, 10] = 0"
   ]
  },
  {
   "cell_type": "markdown",
   "id": "ce1c538e",
   "metadata": {},
   "source": [
    "当心！在 NumPy 索引中，第一个维度 (`camera.shape[0]`) 对应于行，而第二个维度 (`camera.shape[1]`) 对应于列，原点 (`camera[0, 0]`) 位于左上角角落。这与矩阵/线性代数表示法匹配，但与笛卡尔 (x, y) 坐标相反。有关更多详细信息，请参阅下面的 [Coordinate conventions](https://scikit-image.org/docs/stable/user_guide/numpy_images.html#coordinate-conventions)。\n",
    "\n",
    "除了单个像素之外，还可以使用 NumPy 的不同索引功能来访问/修改整组像素的值。\n",
    "\n",
    "切片："
   ]
  },
  {
   "cell_type": "code",
   "execution_count": 8,
   "id": "e9db1cd3",
   "metadata": {},
   "outputs": [],
   "source": [
    "# Set the first ten lines to \"black\" (0)\n",
    "camera[:10] = 0"
   ]
  },
  {
   "cell_type": "markdown",
   "id": "8fe0e968",
   "metadata": {},
   "source": [
    "掩码（使用布尔值掩码进行索引）："
   ]
  },
  {
   "cell_type": "code",
   "execution_count": 9,
   "id": "7cb1989f",
   "metadata": {},
   "outputs": [],
   "source": [
    "mask = camera < 87\n",
    "# Set to \"white\" (255) the pixels where mask is True\n",
    "camera[mask] = 255"
   ]
  },
  {
   "cell_type": "markdown",
   "id": "bb6befdc",
   "metadata": {},
   "source": [
    "花式索引（使用索引集进行索引）："
   ]
  },
  {
   "cell_type": "code",
   "execution_count": 4,
   "id": "aad0381b",
   "metadata": {},
   "outputs": [],
   "source": [
    "import numpy as np\n",
    "inds_r = np.arange(len(camera))\n",
    "inds_c = 4 * inds_r % len(camera)\n",
    "camera[inds_r, inds_c] = 0"
   ]
  },
  {
   "cell_type": "markdown",
   "id": "ecc0fb78",
   "metadata": {},
   "source": [
    "当您需要选择一组像素来执行操作时，掩码（Masks）非常有用。掩码可以是与图像形状相同的任何布尔数组（或可广播到图像形状的形状）。这可用于定义感兴趣的区域，例如磁盘形状："
   ]
  },
  {
   "cell_type": "code",
   "execution_count": 12,
   "id": "40b47850",
   "metadata": {},
   "outputs": [],
   "source": [
    "nrows, ncols = camera.shape\n",
    "row, col = np.ogrid[:nrows, :ncols]\n",
    "cnt_row, cnt_col = nrows / 2, ncols / 2\n",
    "outer_disk_mask = ((row - cnt_row)**2 + (col - cnt_col)**2 >\n",
    "                   (nrows / 2)**2)\n",
    "camera[outer_disk_mask] = 0"
   ]
  },
  {
   "cell_type": "markdown",
   "id": "0ae141eb",
   "metadata": {},
   "source": [
    "![camera](https://scikit-image.org/docs/stable/_images/sphx_glr_plot_camera_numpy_001.png)"
   ]
  },
  {
   "cell_type": "markdown",
   "id": "3e42ffd2",
   "metadata": {},
   "source": [
    "NumPy 的布尔运算可用于定义更复杂的掩码："
   ]
  },
  {
   "cell_type": "code",
   "execution_count": 14,
   "id": "8033ca89",
   "metadata": {},
   "outputs": [],
   "source": [
    "lower_half = row > cnt_row\n",
    "lower_half_disk = np.logical_and(lower_half, outer_disk_mask)\n",
    "camera = data.camera()\n",
    "camera[lower_half_disk] = 0"
   ]
  },
  {
   "cell_type": "markdown",
   "id": "3cbad390",
   "metadata": {},
   "source": [
    "## 4.2. Color images"
   ]
  },
  {
   "cell_type": "markdown",
   "id": "59aa5a40",
   "metadata": {},
   "source": [
    "对于彩色图像，上述所有内容仍然适用。彩色图像是一个 NumPy array，带有额外的通道尾随维度："
   ]
  },
  {
   "cell_type": "code",
   "execution_count": 3,
   "id": "760fc8ed",
   "metadata": {},
   "outputs": [
    {
     "data": {
      "text/plain": [
       "numpy.ndarray"
      ]
     },
     "execution_count": 3,
     "metadata": {},
     "output_type": "execute_result"
    }
   ],
   "source": [
    "cat = data.chelsea()\n",
    "type(cat)"
   ]
  },
  {
   "cell_type": "code",
   "execution_count": 4,
   "id": "6d406a59",
   "metadata": {},
   "outputs": [
    {
     "data": {
      "text/plain": [
       "(300, 451, 3)"
      ]
     },
     "execution_count": 4,
     "metadata": {},
     "output_type": "execute_result"
    }
   ],
   "source": [
    ">>> cat.shape\n",
    "(300, 451, 3)"
   ]
  },
  {
   "cell_type": "markdown",
   "id": "88460f29",
   "metadata": {},
   "source": [
    "这表明 `cat` 是一个 300 x 451 像素的图像，具有三个通道（红色、绿色和蓝色）。和以前一样，我们可以获取和设置像素值："
   ]
  },
  {
   "cell_type": "code",
   "execution_count": 5,
   "id": "743773a9",
   "metadata": {},
   "outputs": [
    {
     "data": {
      "text/plain": [
       "array([151, 129, 115], dtype=uint8)"
      ]
     },
     "execution_count": 5,
     "metadata": {},
     "output_type": "execute_result"
    }
   ],
   "source": [
    "cat[10, 20]"
   ]
  },
  {
   "cell_type": "code",
   "execution_count": 6,
   "id": "3e1056bb",
   "metadata": {},
   "outputs": [],
   "source": [
    "# Set the pixel at (50th row, 60th column) to \"black\"\n",
    "cat[50, 60] = 0\n",
    "# set the pixel at (50th row, 61st column) to \"green\"\n",
    "cat[50, 61] = [0, 255, 0]  # [red, green, blue]"
   ]
  },
  {
   "cell_type": "markdown",
   "id": "44a43eef",
   "metadata": {},
   "source": [
    "我们还可以对 2D 多通道图像使用 2D 布尔蒙版，就像我们对上面的灰度图像所做的那样："
   ]
  },
  {
   "cell_type": "markdown",
   "id": "950e3bf6",
   "metadata": {},
   "source": [
    "![](https://scikit-image.org/docs/stable/_images/numpy_images-1.png)"
   ]
  },
  {
   "cell_type": "markdown",
   "id": "889f9936",
   "metadata": {},
   "source": [
    "`skimage.data` 中包含的示例彩色图像具有沿最后一个轴存储的通道，但其他软件可能遵循不同的约定。支持彩色图像的 scikit-image 库函数有一个 `channel_axis` 参数，可用于指定数组的哪个轴对应于通道。"
   ]
  },
  {
   "cell_type": "markdown",
   "id": "77630958",
   "metadata": {},
   "source": [
    "## 4.3. Coordinate conventions"
   ]
  },
  {
   "cell_type": "markdown",
   "id": "799c789c",
   "metadata": {},
   "source": [
    "由于 `scikit-image` 使用 NumPy arrays 表示图像，因此坐标约定必须匹配。二维 (2D) 灰度图像（例如上面的 camera）按行和列（缩写为 `(row, col)` 或 `(r, c)`）进行索引，最低元素 `(0, 0)` 在顶部-左角。在库的各个部分，您还会看到 `rr` 和 `cc` 指的是行和列坐标列表。我们将此约定与 `(x, y)` 区分开来，后者通常表示标准笛卡尔坐标，其中 `x` 是水平坐标，`y` 是垂直坐标，原点位于左下角（例如，Matplotlib 轴就使用此约定） 。"
   ]
  },
  {
   "cell_type": "markdown",
   "id": "46115a46",
   "metadata": {},
   "source": [
    "在多通道图像的情况下，任何维度（array axis）都可以用于颜色通道，并用 `channel` 或 `ch` 表示。在 scikit-image 0.19 之前，此通道维度始终是最后一个，但在当前版本中，通道维度可以通过 `channel_axis` 参数指定。需要多通道数据的函数默认为 `channel_axis=-1`。否则，函数默认为`channel_axis=None`，表示假设没有轴对应于通道。"
   ]
  },
  {
   "cell_type": "markdown",
   "id": "4b3d588a",
   "metadata": {},
   "source": [
    "最后，对于体积 (3D) 图像，例如视频、磁共振成像 (MRI) 扫描、共焦显微镜等，我们将主维度称为`plane`，缩写为 `pln` 或 `p`。"
   ]
  },
  {
   "cell_type": "markdown",
   "id": "7ab22713",
   "metadata": {},
   "source": [
    "这些约定总结如下：\n",
    "\n",
    "<center>Dimension name and order conventions in scikit-image</center>\n",
    "\n",
    "|Image type|Coordinates|\n",
    "|:-|:-|\n",
    "|2D grayscale|(row, col)|\n",
    "|2D multichannel (eg. RGB)|(row, col, ch)|\n",
    "|3D grayscale|(pln, row, col)|\n",
    "|3D multichannel|(pln, row, col, ch)|"
   ]
  },
  {
   "cell_type": "markdown",
   "id": "c6aa1374",
   "metadata": {},
   "source": [
    "请注意，`ch` 的位置由 `channel_axis` 参数控制。"
   ]
  },
  {
   "cell_type": "markdown",
   "id": "57953e01",
   "metadata": {},
   "source": [
    "`scikit-image` 中的许多函数可以直接操作 3D 图像："
   ]
  },
  {
   "cell_type": "code",
   "execution_count": null,
   "id": "bdc0d97e",
   "metadata": {},
   "outputs": [],
   "source": [
    "rng = np.random.default_rng()\n",
    "im3d = rng.random((100, 1000, 1000))\n",
    "from skimage.segmentation import watershed\n",
    "from scipy import ndimage as ndi\n",
    "seeds = ndi.label(im3d < 0.1)[0]\n",
    "ws = watershed(im3d, seeds)"
   ]
  },
  {
   "cell_type": "markdown",
   "id": "45546af8",
   "metadata": {},
   "source": [
    "然而，在许多情况下，第三个空间维度的分辨率低于其他两个空间维度。一些 `scikit-image` 函数提供了 `spacing` 关键字参数来帮助处理此类数据："
   ]
  },
  {
   "cell_type": "code",
   "execution_count": null,
   "id": "52be249b",
   "metadata": {},
   "outputs": [],
   "source": [
    "from skimage import segmentation\n",
    "slics = segmentation.slic(im3d, spacing=[5, 1, 1], channel_axis=None)"
   ]
  },
  {
   "cell_type": "markdown",
   "id": "8b103fd3",
   "metadata": {},
   "source": [
    "其他时候，处理必须在平面上完成。当平面沿主维度堆叠时（与我们的约定一致），可以使用以下语法："
   ]
  },
  {
   "cell_type": "code",
   "execution_count": null,
   "id": "ece24179",
   "metadata": {},
   "outputs": [],
   "source": [
    "from skimage import filters\n",
    "edges = np.empty_like(im3d)\n",
    "for pln, image in enumerate(im3d):\n",
    "    # Iterate over the leading dimension\n",
    "    edges[pln] = filters.sobel(image)"
   ]
  },
  {
   "cell_type": "markdown",
   "id": "c83b4557",
   "metadata": {},
   "source": [
    "## 4.4. Notes on the order of array dimensions "
   ]
  },
  {
   "cell_type": "markdown",
   "id": "0c1d9d53",
   "metadata": {},
   "source": [
    "尽管轴的标签看起来可能是任意的，但它会对操作速度产生重大影响。这是因为现代处理器从不只从内存中检索一个项目，而是检索一整块相邻的项目（称为 prefetching 操作）。因此，即使操作次数相同，处理内存中彼此相邻的元素比处理分散的元素要快："
   ]
  },
  {
   "cell_type": "code",
   "execution_count": 1,
   "id": "f0bbc4a8",
   "metadata": {},
   "outputs": [],
   "source": [
    "def in_order_multiply(arr, scalar):\n",
    "    for plane in list(range(arr.shape[0])):\n",
    "        arr[plane, :, :] *= scalar\n",
    "\n",
    "def out_of_order_multiply(arr, scalar):\n",
    "    for plane in list(range(arr.shape[2])):\n",
    "        arr[:, :, plane] *= scalar"
   ]
  },
  {
   "cell_type": "code",
   "execution_count": 5,
   "id": "cca17194",
   "metadata": {},
   "outputs": [
    {
     "name": "stdout",
     "output_type": "stream",
     "text": [
      "0.05 seconds\n"
     ]
    }
   ],
   "source": [
    "import time\n",
    "rng = np.random.default_rng()\n",
    "im3d = rng.random((100, 1024, 1024))\n",
    "t0 = time.time(); x = in_order_multiply(im3d, 5); t1 = time.time()\n",
    "print(\"%.2f seconds\" % (t1 - t0))  "
   ]
  },
  {
   "cell_type": "code",
   "execution_count": 6,
   "id": "591c6f3b",
   "metadata": {},
   "outputs": [
    {
     "name": "stdout",
     "output_type": "stream",
     "text": [
      "1.35 seconds\n"
     ]
    }
   ],
   "source": [
    "s0 = time.time(); x = out_of_order_multiply(im3d, 5); s1 = time.time()\n",
    "print(\"%.2f seconds\" % (s1 - s0)) "
   ]
  },
  {
   "cell_type": "code",
   "execution_count": 7,
   "id": "ff7f3d87",
   "metadata": {},
   "outputs": [
    {
     "name": "stdout",
     "output_type": "stream",
     "text": [
      "Speedup: 26.9x\n"
     ]
    }
   ],
   "source": [
    "print(\"Speedup: %.1fx\" % ((s1 - s0) / (t1 - t0)))  "
   ]
  },
  {
   "cell_type": "markdown",
   "id": "137cab20",
   "metadata": {},
   "source": [
    "当最后一个/最右边的维度变得更大时，加速会更加显着。在开发算法时值得考虑数据局部性。特别是，`scikit-image` 默认使用 C-连续数组。使用嵌套循环时，数组的最后一个/最右边的维度应该位于计算的最内层循环中。在上面的示例中，`*=` numpy 运算符迭代所有剩余维度。"
   ]
  },
  {
   "cell_type": "markdown",
   "id": "e8425b17",
   "metadata": {},
   "source": [
    "## 4.5. A note on the time dimension"
   ]
  },
  {
   "cell_type": "markdown",
   "id": "0b497a9d",
   "metadata": {},
   "source": [
    "尽管 `scikit-image` 目前不提供专门处理时变 3D 数据的函数，但它与 NumPy 数组的兼容性使我们能够非常自然地处理形状 (t、pln、row、col、ch) 的 5D 数组："
   ]
  },
  {
   "cell_type": "code",
   "execution_count": null,
   "id": "d0e40585",
   "metadata": {},
   "outputs": [],
   "source": [
    "for timepoint in image5d:\n",
    "    # Each timepoint is a 3D multichannel image\n",
    "    do_something_with(timepoint)"
   ]
  },
  {
   "cell_type": "markdown",
   "id": "b90c7ca1",
   "metadata": {},
   "source": [
    "我们可以对上表进行如下补充："
   ]
  },
  {
   "cell_type": "markdown",
   "id": "42d79fa2",
   "metadata": {},
   "source": [
    "<center>Addendum to dimension names and orders in scikit-image</center>\n",
    "\n",
    "|Image type|coordinates|\n",
    "|:-|:-|\n",
    "|2D color video|(t, row, col, ch)|\n",
    "|3D color video|(t, pln, row, col, ch)|"
   ]
  },
  {
   "cell_type": "code",
   "execution_count": null,
   "id": "b71e6738",
   "metadata": {},
   "outputs": [],
   "source": []
  }
 ],
 "metadata": {
  "kernelspec": {
   "display_name": "image",
   "language": "python",
   "name": "image"
  },
  "language_info": {
   "codemirror_mode": {
    "name": "ipython",
    "version": 3
   },
   "file_extension": ".py",
   "mimetype": "text/x-python",
   "name": "python",
   "nbconvert_exporter": "python",
   "pygments_lexer": "ipython3",
   "version": "3.11.2"
  },
  "toc": {
   "base_numbering": 1,
   "nav_menu": {
    "height": "116px",
    "width": "256px"
   },
   "number_sections": false,
   "sideBar": true,
   "skip_h1_title": true,
   "title_cell": "Table of Contents",
   "title_sidebar": "Contents",
   "toc_cell": true,
   "toc_position": {
    "height": "calc(100% - 180px)",
    "left": "10px",
    "top": "150px",
    "width": "384px"
   },
   "toc_section_display": true,
   "toc_window_display": false
  }
 },
 "nbformat": 4,
 "nbformat_minor": 5
}
