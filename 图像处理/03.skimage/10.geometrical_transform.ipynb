{
 "cells": [
  {
   "cell_type": "markdown",
   "id": "9cd09a2e",
   "metadata": {},
   "source": [
    "# 10. Geometrical transformations of images"
   ]
  },
  {
   "cell_type": "markdown",
   "id": "d01e95b8",
   "metadata": {},
   "source": [
    "**10. 图像的几何变换**"
   ]
  },
  {
   "cell_type": "markdown",
   "id": "9e59b620",
   "metadata": {},
   "source": [
    "## 10.1. Cropping, resizing and rescaling images"
   ]
  },
  {
   "cell_type": "markdown",
   "id": "98d00305",
   "metadata": {},
   "source": [
    "**10.1.裁剪、调整大小和重新缩放图像**"
   ]
  },
  {
   "cell_type": "markdown",
   "id": "8249dbd2",
   "metadata": {},
   "source": [
    "图像是 NumPy 数组（as described in the [A crash course on NumPy for images](https://scikit-image.org/docs/stable/user_guide/numpy_images.html#numpy) section），可以通过简单的切片操作来裁剪图像。下面我们裁剪一个 100x100 的正方形，对应于宇航员图像的左上角。请注意，此操作是针对所有颜色通道完成的（颜色维度是最后一个，第三个维度）："
   ]
  },
  {
   "cell_type": "code",
   "execution_count": 1,
   "id": "96b7ecfa",
   "metadata": {},
   "outputs": [],
   "source": [
    "from skimage import data\n",
    "img = data.astronaut()\n",
    "top_left = img[:100, :100]"
   ]
  },
  {
   "cell_type": "markdown",
   "id": "5cf911cd",
   "metadata": {},
   "source": [
    "为了改变图像的形状，`skimage.color` 提供了 [Rescale,resize,downscale](https://scikit-image.org/docs/stable/auto_examples/transform/plot_rescale.html#sphx-glr-auto-examples-transform-plot-rescale-py) 中描述的几个函数。"
   ]
  },
  {
   "cell_type": "code",
   "execution_count": 2,
   "id": "7c71f577",
   "metadata": {},
   "outputs": [],
   "source": [
    "from skimage import data, color\n",
    "from skimage.transform import rescale, resize, downscale_local_mean\n",
    "\n",
    "image = color.rgb2gray(data.astronaut())\n",
    "\n",
    "image_rescaled = rescale(image, 0.25, anti_aliasing=False)\n",
    "image_resized = resize(image, (image.shape[0] // 4, image.shape[1] // 4),\n",
    "                       anti_aliasing=True)\n",
    "image_downscaled = downscale_local_mean(image, (4, 3))"
   ]
  },
  {
   "cell_type": "markdown",
   "id": "0310d9a0",
   "metadata": {},
   "source": [
    "![](https://scikit-image.org/docs/stable/_images/sphx_glr_plot_rescale_001.png)"
   ]
  },
  {
   "cell_type": "markdown",
   "id": "f23f143b",
   "metadata": {},
   "source": [
    "## 10.2. Projective transforms (homographies)"
   ]
  },
  {
   "cell_type": "markdown",
   "id": "c785bee5",
   "metadata": {},
   "source": [
    "**10.2.射影变换（单应性）**"
   ]
  },
  {
   "cell_type": "markdown",
   "id": "e0c8ea7b",
   "metadata": {},
   "source": [
    "[Homographies](https://en.wikipedia.org/wiki/Homography) 是欧几里得空间的变换，可以保持点的对齐。homographies 的具体情况对应于更多属性的守恒，例如平行性（仿射变换）、形状（相似变换）或距离（欧几里德变换）。scikit-image 中可用的不同类型的 homographies 在 [Types of homographies](https://scikit-image.org/docs/stable/auto_examples/transform/plot_transform_types.html#sphx-glr-auto-examples-transform-plot-transform-types-py) 中介绍。"
   ]
  },
  {
   "cell_type": "markdown",
   "id": "0a481690",
   "metadata": {},
   "source": [
    "投影变换可以使用显式参数（e.g. scale, shear, rotation and translation）创建："
   ]
  },
  {
   "cell_type": "code",
   "execution_count": 4,
   "id": "9586e8ac",
   "metadata": {},
   "outputs": [],
   "source": [
    "from skimage import data\n",
    "from skimage import transform\n",
    "from skimage import img_as_float\n",
    "import numpy as np\n",
    "\n",
    "tform = transform.EuclideanTransform(\n",
    "   rotation=np.pi / 12.,\n",
    "   translation = (100, -20)\n",
    "   )"
   ]
  },
  {
   "cell_type": "markdown",
   "id": "7ecd879e",
   "metadata": {},
   "source": [
    "或完整的变换矩阵："
   ]
  },
  {
   "cell_type": "code",
   "execution_count": 5,
   "id": "b1c56cbf",
   "metadata": {},
   "outputs": [],
   "source": [
    "from skimage import data\n",
    "from skimage import transform\n",
    "from skimage import img_as_float\n",
    "\n",
    "matrix = np.array([[np.cos(np.pi/12), -np.sin(np.pi/12), 100],\n",
    "                   [np.sin(np.pi/12), np.cos(np.pi/12), -20],\n",
    "                   [0, 0, 1]])\n",
    "tform = transform.EuclideanTransform(matrix)"
   ]
  },
  {
   "cell_type": "markdown",
   "id": "c0af3454",
   "metadata": {},
   "source": [
    "变换的变换矩阵可用作其 `tform.params` 属性。变换可以通过将矩阵与`@`矩阵乘法运算符相乘来组成。"
   ]
  },
  {
   "cell_type": "code",
   "execution_count": null,
   "id": "9c8db7a0",
   "metadata": {},
   "outputs": [],
   "source": []
  },
  {
   "cell_type": "code",
   "execution_count": null,
   "id": "21e2a4a4",
   "metadata": {},
   "outputs": [],
   "source": []
  },
  {
   "cell_type": "code",
   "execution_count": null,
   "id": "749a43fb",
   "metadata": {},
   "outputs": [],
   "source": []
  },
  {
   "cell_type": "code",
   "execution_count": null,
   "id": "8d7ec27a",
   "metadata": {},
   "outputs": [],
   "source": []
  },
  {
   "cell_type": "code",
   "execution_count": null,
   "id": "69d7a02f",
   "metadata": {},
   "outputs": [],
   "source": []
  },
  {
   "cell_type": "code",
   "execution_count": null,
   "id": "d32d4aa9",
   "metadata": {},
   "outputs": [],
   "source": []
  },
  {
   "cell_type": "code",
   "execution_count": null,
   "id": "5057bb57",
   "metadata": {},
   "outputs": [],
   "source": []
  }
 ],
 "metadata": {
  "kernelspec": {
   "display_name": "image",
   "language": "python",
   "name": "image"
  },
  "language_info": {
   "codemirror_mode": {
    "name": "ipython",
    "version": 3
   },
   "file_extension": ".py",
   "mimetype": "text/x-python",
   "name": "python",
   "nbconvert_exporter": "python",
   "pygments_lexer": "ipython3",
   "version": "3.11.2"
  },
  "toc": {
   "base_numbering": 1,
   "nav_menu": {},
   "number_sections": false,
   "sideBar": true,
   "skip_h1_title": false,
   "title_cell": "Table of Contents",
   "title_sidebar": "Contents",
   "toc_cell": false,
   "toc_position": {
    "height": "calc(100% - 180px)",
    "left": "10px",
    "top": "150px",
    "width": "279px"
   },
   "toc_section_display": true,
   "toc_window_display": false
  }
 },
 "nbformat": 4,
 "nbformat_minor": 5
}
