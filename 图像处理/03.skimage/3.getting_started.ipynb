{
 "cells": [
  {
   "cell_type": "markdown",
   "id": "3879097d",
   "metadata": {},
   "source": [
    "# 3. Getting started"
   ]
  },
  {
   "cell_type": "markdown",
   "id": "067464df",
   "metadata": {},
   "source": [
    "`scikit-image` 是一个与 `numpy` arrays 一起使用的图像处理 Python 包。该包作为 `skimage` 导入："
   ]
  },
  {
   "cell_type": "code",
   "execution_count": 1,
   "id": "b8397c07",
   "metadata": {},
   "outputs": [],
   "source": [
    "import skimage"
   ]
  },
  {
   "cell_type": "markdown",
   "id": "dcac7f0b",
   "metadata": {},
   "source": [
    "`skimage` 的大部分功能都可以在 submodules 中找到："
   ]
  },
  {
   "cell_type": "code",
   "execution_count": 3,
   "id": "5411a718",
   "metadata": {},
   "outputs": [],
   "source": [
    "from skimage import data\n",
    "camera = data.camera()"
   ]
  },
  {
   "cell_type": "markdown",
   "id": "e1ed8f25",
   "metadata": {},
   "source": [
    "[API reference](https://scikit-image.org/docs/stable/api/api.html) 网页上提供了 submodules 和 functions 的列表。"
   ]
  },
  {
   "cell_type": "markdown",
   "id": "4097574d",
   "metadata": {},
   "source": [
    "在 scikit-image 中，图像表示为 NumPy arrays，例如 grayscale 2-D images 表示为 2-D arrays"
   ]
  },
  {
   "cell_type": "code",
   "execution_count": 6,
   "id": "f8b03ab8",
   "metadata": {},
   "outputs": [
    {
     "data": {
      "text/plain": [
       "numpy.ndarray"
      ]
     },
     "execution_count": 6,
     "metadata": {},
     "output_type": "execute_result"
    }
   ],
   "source": [
    "type(camera)"
   ]
  },
  {
   "cell_type": "code",
   "execution_count": 7,
   "id": "c67a2210",
   "metadata": {},
   "outputs": [
    {
     "data": {
      "text/plain": [
       "(512, 512)"
      ]
     },
     "execution_count": 7,
     "metadata": {},
     "output_type": "execute_result"
    }
   ],
   "source": [
    "# An image with 512 rows and 512 columns\n",
    "camera.shape"
   ]
  },
  {
   "cell_type": "markdown",
   "id": "665ffc57",
   "metadata": {},
   "source": [
    "`skimage.data` submodule 提供了一组返回示例图像的函数，可用于快速开始使用 scikit-image 的函数："
   ]
  },
  {
   "cell_type": "code",
   "execution_count": 8,
   "id": "fdbaddf9",
   "metadata": {},
   "outputs": [
    {
     "data": {
      "text/plain": [
       "107"
      ]
     },
     "execution_count": 8,
     "metadata": {},
     "output_type": "execute_result"
    }
   ],
   "source": [
    "coins = data.coins()\n",
    "from skimage import filters\n",
    "threshold_value = filters.threshold_otsu(coins)\n",
    "threshold_value"
   ]
  },
  {
   "cell_type": "markdown",
   "id": "e3e43f64",
   "metadata": {},
   "source": [
    "当然，也可以使用 `skimage.io.imread()` 从图像文件中将自己的图像加载为 NumPy arrays："
   ]
  },
  {
   "cell_type": "code",
   "execution_count": 9,
   "id": "532c28a4",
   "metadata": {},
   "outputs": [],
   "source": [
    "import os\n",
    "filename = os.path.join(skimage.data_dir, 'moon.png')\n",
    "from skimage import io\n",
    "moon = io.imread(filename)"
   ]
  },
  {
   "cell_type": "markdown",
   "id": "5d61fb9d",
   "metadata": {},
   "source": [
    "使用 [natsort](https://pypi.org/project/natsort/) 加载多张图片"
   ]
  },
  {
   "cell_type": "code",
   "execution_count": null,
   "id": "26014ee7",
   "metadata": {},
   "outputs": [],
   "source": [
    ">>> import os\n",
    ">>> from natsort import natsorted, ns\n",
    ">>> from skimage import io\n",
    ">>> list_files = os.listdir('.')\n",
    ">>> list_files\n",
    "['01.png', '010.png', '0101.png', '0190.png', '02.png']\n",
    ">>> list_files = natsorted(list_files)\n",
    ">>> list_files\n",
    "['01.png', '02.png', '010.png', '0101.png', '0190.png']\n",
    ">>> image_list = []\n",
    ">>> for filename in list_files:\n",
    "...   image_list.append(io.imread(filename))"
   ]
  },
  {
   "cell_type": "code",
   "execution_count": null,
   "id": "20da1317",
   "metadata": {},
   "outputs": [],
   "source": []
  }
 ],
 "metadata": {
  "kernelspec": {
   "display_name": "image",
   "language": "python",
   "name": "image"
  },
  "language_info": {
   "codemirror_mode": {
    "name": "ipython",
    "version": 3
   },
   "file_extension": ".py",
   "mimetype": "text/x-python",
   "name": "python",
   "nbconvert_exporter": "python",
   "pygments_lexer": "ipython3",
   "version": "3.11.2"
  }
 },
 "nbformat": 4,
 "nbformat_minor": 5
}
