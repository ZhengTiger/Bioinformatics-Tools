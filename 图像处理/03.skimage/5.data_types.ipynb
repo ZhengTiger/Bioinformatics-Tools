{
 "cells": [
  {
   "cell_type": "markdown",
   "id": "9057394f",
   "metadata": {},
   "source": [
    "# 5. Image data types and what they mean"
   ]
  },
  {
   "cell_type": "markdown",
   "id": "6ea7ac91",
   "metadata": {},
   "source": [
    "在 `skimage` 中，图像只是 numpy 数组，它支持多种数据类型，即“dtypes”。为了避免扭曲图像强度（请参阅 [Rescaling intensity values](https://scikit-image.org/docs/stable/user_guide/data_types.html#rescaling-intensity-values)），我们假设图像使用以下 dtype 范围："
   ]
  },
  {
   "cell_type": "markdown",
   "id": "398289fa",
   "metadata": {},
   "source": [
    "|Data type|Range|\n",
    "|:-|:-|\n",
    "|uint8|0 to 255|\n",
    "|uint16|0 to 65535|\n",
    "|uint32|0 to 2<sup>32</sup> - 1|\n",
    "|float|-1 to 1 or 0 to 1|\n",
    "|int8|-128 to 127|\n",
    "|int16|-32768 to 32767|\n",
    "|int32|-2<sup>31</sup> to 2<sup>31</sup> - 1|"
   ]
  },
  {
   "cell_type": "markdown",
   "id": "1ae81a96",
   "metadata": {},
   "source": [
    "请注意，float 图像应限制在 -1 到 1 的范围内，即使数据类型本身可以超出此范围；另一方面，所有 integer 数据类型都具有可以跨越整个数据类型范围的像素强度。除少数例外，不支持 64-bit (u)int 图像。"
   ]
  },
  {
   "cell_type": "markdown",
   "id": "f3094c0f",
   "metadata": {},
   "source": [
    "`skimage` 中的函数经过设计，可以接受任何这些数据类型，但为了提高效率，可能会返回不同数据类型的图像（see [Output types](https://scikit-image.org/docs/stable/user_guide/data_types.html#output-types)）。如果您需要特定的数据类型，`skimage` 提供了转换数据类型并正确重新调整图像强度的实用程序函数（see [Input types](https://scikit-image.org/docs/stable/user_guide/data_types.html#input-types)）。您永远不应该在图像上使用 `astype`，因为它违反了有关 dtype 范围的以下假设："
   ]
  },
  {
   "cell_type": "code",
   "execution_count": 2,
   "id": "0064e7ae",
   "metadata": {},
   "outputs": [
    {
     "name": "stdout",
     "output_type": "stream",
     "text": [
      "[ 0. 10. 20. 30. 40.]\n"
     ]
    }
   ],
   "source": [
    "from skimage.util import img_as_float\n",
    "import numpy as np\n",
    "image = np.arange(0, 50, 10, dtype=np.uint8)\n",
    "print(image.astype(float)) # These float values are out of range."
   ]
  },
  {
   "cell_type": "code",
   "execution_count": 3,
   "id": "aef6718d",
   "metadata": {},
   "outputs": [
    {
     "name": "stdout",
     "output_type": "stream",
     "text": [
      "[0.         0.03921569 0.07843137 0.11764706 0.15686275]\n"
     ]
    }
   ],
   "source": [
    "print(img_as_float(image))"
   ]
  },
  {
   "cell_type": "markdown",
   "id": "5e2ff8bd",
   "metadata": {},
   "source": [
    "## 5.1. Input types "
   ]
  },
  {
   "cell_type": "markdown",
   "id": "70c74f84",
   "metadata": {},
   "source": [
    "尽管我们的目标是保留输入图像的数据范围和类型，但函数可能仅支持这些数据类型的子集。在这种情况下，输入将被转换为所需的类型（如果可能），并且如果需要内存副本，则会将警告消息打印到日志中。类型要求应在文档字符串中注明。"
   ]
  },
  {
   "cell_type": "markdown",
   "id": "1fef0fc2",
   "metadata": {},
   "source": [
    "main package 中的以下实用函数可供开发人员和用户使用："
   ]
  },
  {
   "cell_type": "markdown",
   "id": "cf5af794",
   "metadata": {},
   "source": [
    "|Function name|Description|\n",
    "|:-|:-|\n",
    "|img_as_float|Convert to floating point (integer types become 64-bit floats)|\n",
    "|img_as_ubyte|Convert to 8-bit uint.|\n",
    "|img_as_uint|Convert to 16-bit uint.|\n",
    "|img_as_int|Convert to 16-bit int.|"
   ]
  },
  {
   "cell_type": "markdown",
   "id": "b6146533",
   "metadata": {},
   "source": [
    "这些函数将图像转换为所需的数据类型并正确调整其值："
   ]
  },
  {
   "cell_type": "code",
   "execution_count": 4,
   "id": "78ea757d",
   "metadata": {},
   "outputs": [
    {
     "data": {
      "text/plain": [
       "array([  0, 128, 255], dtype=uint8)"
      ]
     },
     "execution_count": 4,
     "metadata": {},
     "output_type": "execute_result"
    }
   ],
   "source": [
    "from skimage.util import img_as_ubyte\n",
    "image = np.array([0, 0.5, 1], dtype=float)\n",
    "img_as_ubyte(image)"
   ]
  },
  {
   "cell_type": "markdown",
   "id": "ee4aa22d",
   "metadata": {},
   "source": [
    "当心！这些转换可能会导致精度损失，因为 8 bits 无法保存与 64 bits 相同的信息量："
   ]
  },
  {
   "cell_type": "code",
   "execution_count": 6,
   "id": "cfa803c5",
   "metadata": {},
   "outputs": [
    {
     "data": {
      "text/plain": [
       "array([  0, 128, 128, 255], dtype=uint8)"
      ]
     },
     "execution_count": 6,
     "metadata": {},
     "output_type": "execute_result"
    }
   ],
   "source": [
    "image = np.array([0, 0.5, 0.503, 1], dtype=float)\n",
    "img_as_ubyte(image)"
   ]
  },
  {
   "cell_type": "markdown",
   "id": "91c1d555",
   "metadata": {},
   "source": [
    "请注意，`img_as_float` 将保留浮点类型的精度，并且不会自动重新调整浮点输入的范围。"
   ]
  },
  {
   "cell_type": "markdown",
   "id": "fab1f332",
   "metadata": {},
   "source": [
    "此外，某些函数采用 `preserve_range` 参数，其中范围转换很方便但不是必需的。例如，`transform.warp` 中的插值需要 float 类型的图像，其范围应为 [0, 1]。因此，默认情况下，输入图像将重新缩放到此范围。然而，在某些情况下，图像值表示用户不希望重新缩放的物理测量值，例如温度或降雨量值。使用`preserve_range=True`，即使输出是浮点图像，也将保留数据的原始范围。然后，用户必须确保下游函数正确处理该非标准图像，下游函数可能期望图像位于 [0, 1] 中。一般来说，除非函数具有 `preserve_range=False` 关键字参数，否则浮点输入不会自动重新缩放。"
   ]
  },
  {
   "cell_type": "code",
   "execution_count": 7,
   "id": "af5c82ec",
   "metadata": {},
   "outputs": [
    {
     "data": {
      "text/plain": [
       "(dtype('uint8'), 1, 252, (303, 384))"
      ]
     },
     "execution_count": 7,
     "metadata": {},
     "output_type": "execute_result"
    }
   ],
   "source": [
    "from skimage import data\n",
    "from skimage.transform import rescale\n",
    "image = data.coins()\n",
    "image.dtype, image.min(), image.max(), image.shape"
   ]
  },
  {
   "cell_type": "code",
   "execution_count": 8,
   "id": "d7c36d94",
   "metadata": {},
   "outputs": [
    {
     "data": {
      "text/plain": [
       "(dtype('float64'), 0.0189, 0.9156, (152, 192))"
      ]
     },
     "execution_count": 8,
     "metadata": {},
     "output_type": "execute_result"
    }
   ],
   "source": [
    "rescaled = rescale(image, 0.5)\n",
    "(rescaled.dtype, np.round(rescaled.min(), 4),\n",
    " np.round(rescaled.max(), 4), rescaled.shape)"
   ]
  },
  {
   "cell_type": "code",
   "execution_count": 10,
   "id": "5b31159a",
   "metadata": {},
   "outputs": [
    {
     "data": {
      "text/plain": [
       "(dtype('float64'), 5.0, 233.0, (152, 192))"
      ]
     },
     "execution_count": 10,
     "metadata": {},
     "output_type": "execute_result"
    }
   ],
   "source": [
    "rescaled = rescale(image, 0.5, preserve_range=True)\n",
    "(rescaled.dtype, np.round(rescaled.min()),\n",
    " np.round(rescaled.max()), rescaled.shape)"
   ]
  },
  {
   "cell_type": "markdown",
   "id": "a9e60740",
   "metadata": {},
   "source": [
    "## 5.2. Output types"
   ]
  },
  {
   "cell_type": "markdown",
   "id": "cabf1a6e",
   "metadata": {},
   "source": [
    "函数的输出类型由函数作者确定，并为了用户的利益而进行记录。虽然这要求用户将输出显式转换为所需的格式，但它确保不会发生不必要的数据复制。"
   ]
  },
  {
   "cell_type": "markdown",
   "id": "675d34ba",
   "metadata": {},
   "source": [
    "需要特定类型输出（例如，出于显示目的）的用户可以编写："
   ]
  },
  {
   "cell_type": "code",
   "execution_count": null,
   "id": "948cae4c",
   "metadata": {},
   "outputs": [],
   "source": [
    "from skimage.util import img_as_uint\n",
    "out = img_as_uint(sobel(image))\n",
    "plt.imshow(out)"
   ]
  },
  {
   "cell_type": "markdown",
   "id": "4a2fc42e",
   "metadata": {},
   "source": [
    "## 5.3. Working with OpenCV"
   ]
  },
  {
   "cell_type": "markdown",
   "id": "ce7c918c",
   "metadata": {},
   "source": [
    "您可能需要使用通过 `skimage` 和 [OpenCV](https://opencv.org/) 创建的图像，反之亦然。OpenCV 图像数据可以在 NumPy（以及 scikit-image）中访问（无需复制）。OpenCV 对彩色图像使用 BGR（而不是 scikit-image 的 RGB），其 dtype 默认为 uint8（See [Image data types and what they mean](https://scikit-image.org/docs/stable/user_guide/data_types.html#image-data-types-and-what-they-mean)）。BGR 代表蓝绿红。"
   ]
  },
  {
   "cell_type": "markdown",
   "id": "5cf62800",
   "metadata": {},
   "source": [
    "### 5.3.1. Converting BGR to RGB or vice versa "
   ]
  },
  {
   "cell_type": "markdown",
   "id": "6e2afcfb",
   "metadata": {},
   "source": [
    "`skimage` 和 `OpenCV` 中的彩色图像有 3 个维度：宽度、高度和颜色。RGB 和 BGR 使用相同的颜色空间，只是颜色顺序相反。"
   ]
  },
  {
   "cell_type": "markdown",
   "id": "58f8b341",
   "metadata": {},
   "source": [
    "请注意，在 `scikit-image` 中，我们通常指的是 `rows` 和 `columns`，而不是宽度和高度(see Coordinate conventions)。"
   ]
  },
  {
   "cell_type": "markdown",
   "id": "da8c91b2",
   "metadata": {},
   "source": [
    "对于沿最后一个轴具有颜色的图像，以下指令有效地反转颜色的顺序，使行和列不受影响。"
   ]
  },
  {
   "cell_type": "code",
   "execution_count": null,
   "id": "17b41627",
   "metadata": {},
   "outputs": [],
   "source": [
    "image = image[:, :, ::-1]"
   ]
  },
  {
   "cell_type": "markdown",
   "id": "ab15375e",
   "metadata": {},
   "source": [
    "### 5.3.2. Using an image from OpenCV with `skimage`"
   ]
  },
  {
   "cell_type": "markdown",
   "id": "9540b841",
   "metadata": {},
   "source": [
    "如果 cv_image 是无符号字节数组，`skimage` 默认会理解它。如果您喜欢使用浮点图像，可以使用 `img_as_float()` 来转换图像："
   ]
  },
  {
   "cell_type": "code",
   "execution_count": null,
   "id": "abfdbd0b",
   "metadata": {},
   "outputs": [],
   "source": [
    "from skimage.util import img_as_float\n",
    "image = img_as_float(any_opencv_image)"
   ]
  },
  {
   "cell_type": "markdown",
   "id": "0ff5e37b",
   "metadata": {},
   "source": [
    "### 5.3.3. Using an image from `skimage` with OpenCV"
   ]
  },
  {
   "cell_type": "markdown",
   "id": "01a30409",
   "metadata": {},
   "source": [
    "可以使用 `img_as_ubyte()` 实现相反的效果："
   ]
  },
  {
   "cell_type": "code",
   "execution_count": null,
   "id": "b3acb90c",
   "metadata": {},
   "outputs": [],
   "source": [
    "from skimage.util import img_as_ubyte\n",
    "cv_image = img_as_ubyte(any_skimage_image)"
   ]
  },
  {
   "cell_type": "markdown",
   "id": "5684f527",
   "metadata": {},
   "source": [
    "## 5.4. Image processing pipeline"
   ]
  },
  {
   "cell_type": "markdown",
   "id": "8c18f3d8",
   "metadata": {},
   "source": [
    "这种数据类型行为允许您将任何 `skimage` 函数串在一起，而无需担心图像数据类型。另一方面，如果您想使用需要特定数据类型的自定义函数，则应调用其中一个数据类型转换函数（此处，`func1` 和 `func2` 是 `skimage` 函数）："
   ]
  },
  {
   "cell_type": "code",
   "execution_count": null,
   "id": "8663ef70",
   "metadata": {},
   "outputs": [],
   "source": [
    "from skimage.util import img_as_float\n",
    "image = img_as_float(func1(func2(image)))\n",
    "processed_image = custom_func(image)"
   ]
  },
  {
   "cell_type": "markdown",
   "id": "3e12f821",
   "metadata": {},
   "source": [
    "更好的是，您可以在内部转换图像并使用简化的处理管道："
   ]
  },
  {
   "cell_type": "code",
   "execution_count": null,
   "id": "a9cd59a2",
   "metadata": {},
   "outputs": [],
   "source": [
    "def custom_func(image):\n",
    "    image = img_as_float(image)\n",
    "    # do something\n",
    "    processed_image = custom_func(func1(func2(image)))"
   ]
  },
  {
   "cell_type": "markdown",
   "id": "52920dac",
   "metadata": {},
   "source": [
    "## 5.5. Rescaling intensity values"
   ]
  },
  {
   "cell_type": "markdown",
   "id": "52d15761",
   "metadata": {},
   "source": [
    "如果可能，函数应避免盲目拉伸图像强度（例如，重新缩放浮点图像，使最小和最大强度分别为 0 和 1），因为这会严重扭曲图像。例如，如果您要在黑暗图像中寻找明亮的标记，则可能存在不存在标记的图像；将其输入强度扩展到整个范围将使背景噪声看起来像标记。"
   ]
  },
  {
   "cell_type": "markdown",
   "id": "9e09e884",
   "metadata": {},
   "source": [
    "然而，有时您的图像应该跨越整个强度范围，但实际上却没有。例如，某些相机存储每像素 10 位、12 位或 14 位深度的图像。如果这些图像存储在 dtype uint16 的数组中，则图像将不会扩展到整个强度范围，因此会显得比应有的更暗。要纠正此问题，您可以使用 `rescale_intensity` 函数重新缩放图像，以便它使用完整的 dtype 范围："
   ]
  },
  {
   "cell_type": "code",
   "execution_count": null,
   "id": "64cdd949",
   "metadata": {},
   "outputs": [],
   "source": [
    "from skimage import exposure\n",
    "image = exposure.rescale_intensity(img10bit, in_range=(0, 2**10 - 1))"
   ]
  },
  {
   "cell_type": "markdown",
   "id": "9fa204ac",
   "metadata": {},
   "source": [
    "此处，`in_range` 参数设置为 10 位图像的最大范围。默认情况下，`rescale_intensity` 会拉伸 `in_range` 的值以匹配 dtype 的范围。 `rescale_intensity` 还接受字符串作为 `in_range` 和 `out_range` 的输入，因此上面的示例也可以写为："
   ]
  },
  {
   "cell_type": "code",
   "execution_count": null,
   "id": "bb3b7798",
   "metadata": {},
   "outputs": [],
   "source": [
    "image = exposure.rescale_intensity(img10bit, in_range='uint10')"
   ]
  },
  {
   "cell_type": "markdown",
   "id": "c6862fec",
   "metadata": {},
   "source": [
    "## 5.6. Note about negative values"
   ]
  },
  {
   "cell_type": "markdown",
   "id": "c5894c9a",
   "metadata": {},
   "source": [
    "人们经常用带符号的数据类型表示图像，即使他们只操纵图像的正值（例如，在 int8 图像中仅使用 0-127）。因此，转换函数仅将有符号数据类型的正值分布在无符号数据类型的整个范围内。换句话说，当从有符号数据类型转换为无符号数据类型时，负值将被截断为 0。（在带符号的数据类型之间转换时，会保留负值。）为了防止这种剪切行为，您应该事先重新缩放图像："
   ]
  },
  {
   "cell_type": "code",
   "execution_count": null,
   "id": "bff7c504",
   "metadata": {},
   "outputs": [],
   "source": [
    "image = exposure.rescale_intensity(img_int32, out_range=(0, 2**31 - 1))\n",
    "img_uint8 = img_as_ubyte(image)"
   ]
  },
  {
   "cell_type": "markdown",
   "id": "3ad90037",
   "metadata": {},
   "source": [
    "此行为是对称的：无符号数据类型中的值仅分布在有符号数据类型的正范围内。"
   ]
  },
  {
   "cell_type": "code",
   "execution_count": null,
   "id": "6d351bab",
   "metadata": {},
   "outputs": [],
   "source": []
  },
  {
   "cell_type": "code",
   "execution_count": null,
   "id": "0fe96d46",
   "metadata": {},
   "outputs": [],
   "source": []
  },
  {
   "cell_type": "code",
   "execution_count": null,
   "id": "fbda251a",
   "metadata": {},
   "outputs": [],
   "source": []
  },
  {
   "cell_type": "code",
   "execution_count": null,
   "id": "5ed0e0fa",
   "metadata": {},
   "outputs": [],
   "source": []
  },
  {
   "cell_type": "code",
   "execution_count": null,
   "id": "07dfdf8e",
   "metadata": {},
   "outputs": [],
   "source": []
  }
 ],
 "metadata": {
  "kernelspec": {
   "display_name": "image",
   "language": "python",
   "name": "image"
  },
  "language_info": {
   "codemirror_mode": {
    "name": "ipython",
    "version": 3
   },
   "file_extension": ".py",
   "mimetype": "text/x-python",
   "name": "python",
   "nbconvert_exporter": "python",
   "pygments_lexer": "ipython3",
   "version": "3.11.2"
  },
  "toc": {
   "base_numbering": 1,
   "nav_menu": {
    "height": "59px",
    "width": "209px"
   },
   "number_sections": false,
   "sideBar": true,
   "skip_h1_title": false,
   "title_cell": "Table of Contents",
   "title_sidebar": "Contents",
   "toc_cell": false,
   "toc_position": {
    "height": "calc(100% - 180px)",
    "left": "10px",
    "top": "150px",
    "width": "384px"
   },
   "toc_section_display": true,
   "toc_window_display": true
  }
 },
 "nbformat": 4,
 "nbformat_minor": 5
}
