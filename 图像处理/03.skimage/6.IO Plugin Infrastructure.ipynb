{
 "cells": [
  {
   "cell_type": "markdown",
   "id": "071f89b9",
   "metadata": {},
   "source": [
    "# 6. I/O Plugin Infrastructure"
   ]
  },
  {
   "cell_type": "markdown",
   "id": "5d239a29",
   "metadata": {},
   "source": [
    "插件由两个文件组成：源文件和描述符 `.ini`。假设我们想使用 `matplotlib` 为 `imshow` 提供一个插件。我们将调用我们的插件 `mpl`："
   ]
  },
  {
   "cell_type": "code",
   "execution_count": null,
   "id": "4dab130b",
   "metadata": {},
   "outputs": [],
   "source": [
    "skimage/io/_plugins/mpl.py\n",
    "skimage/io/_plugins/mpl.ini"
   ]
  },
  {
   "cell_type": "markdown",
   "id": "7a20e41e",
   "metadata": {},
   "source": [
    "`.py` 和 `.ini` 文件的名称必须对应。在 `.ini` 文件中，我们提供插件的 meta-data："
   ]
  },
  {
   "cell_type": "code",
   "execution_count": null,
   "id": "6c2ee216",
   "metadata": {},
   "outputs": [],
   "source": [
    "[mpl] <-- name of the plugin, may be anything\n",
    "description = Matplotlib image I/O plugin\n",
    "provides = imshow <-- a comma-separated list, one or more of\n",
    "                      imshow, imsave, imread, _app_show"
   ]
  },
  {
   "cell_type": "markdown",
   "id": "87cf1fe3",
   "metadata": {},
   "source": [
    "“provides”行列出了插件提供的所有功能。由于我们的插件提供了 `imshow`，我们必须在 `mpl.py` 中定义它："
   ]
  },
  {
   "cell_type": "code",
   "execution_count": null,
   "id": "3b34f671",
   "metadata": {},
   "outputs": [],
   "source": [
    "# This is mpl.py\n",
    "import matplotlib.pyplot as plt\n",
    "\n",
    "def imshow(img):\n",
    "    plt.imshow(img)"
   ]
  },
  {
   "cell_type": "markdown",
   "id": "d738fff9",
   "metadata": {},
   "source": [
    "请注意，默认情况下，`imshow` 是非阻塞的，因此必须提供特殊函数 `_app_show` 来阻塞 GUI。我们可以修改我们的插件以提供它，如下所示："
   ]
  },
  {
   "cell_type": "code",
   "execution_count": null,
   "id": "94f529e2",
   "metadata": {},
   "outputs": [],
   "source": [
    "[mpl]\n",
    "provides = imshow, _app_show"
   ]
  },
  {
   "cell_type": "code",
   "execution_count": null,
   "id": "c83d08d2",
   "metadata": {},
   "outputs": [],
   "source": [
    "# This is mpl.py\n",
    "import matplotlib.pyplot as plt\n",
    "\n",
    "def imshow(img):\n",
    "    plt.imshow(img)\n",
    "\n",
    "def _app_show():\n",
    "    plt.show()"
   ]
  },
  {
   "cell_type": "markdown",
   "id": "7cd30937",
   "metadata": {},
   "source": [
    "导入时 `skimage.io` 会自动检查 `_plugins` 目录中的任何插件。您可以列出系统上的所有插件："
   ]
  },
  {
   "cell_type": "code",
   "execution_count": null,
   "id": "85004f80",
   "metadata": {},
   "outputs": [],
   "source": [
    "import skimage.io as io\n",
    "io.find_available_plugins()"
   ]
  },
  {
   "cell_type": "markdown",
   "id": "4a3298da",
   "metadata": {},
   "source": [
    "或仅那些已经加载的："
   ]
  },
  {
   "cell_type": "code",
   "execution_count": null,
   "id": "ba088033",
   "metadata": {},
   "outputs": [],
   "source": [
    "io.find_available_plugins(loaded=True)"
   ]
  },
  {
   "cell_type": "markdown",
   "id": "7e83ec5e",
   "metadata": {},
   "source": [
    "使用 `use_plugin` 命令加载插件："
   ]
  },
  {
   "cell_type": "code",
   "execution_count": null,
   "id": "1fa609e9",
   "metadata": {},
   "outputs": [],
   "source": [
    "import skimage.io as io\n",
    "io.use_plugin('pil')"
   ]
  },
  {
   "cell_type": "markdown",
   "id": "1fcde2c5",
   "metadata": {},
   "source": [
    "或者"
   ]
  },
  {
   "cell_type": "code",
   "execution_count": null,
   "id": "c518067b",
   "metadata": {},
   "outputs": [],
   "source": [
    "io.use_plugin('pil', 'imread') # Use only the imread capability of PIL"
   ]
  },
  {
   "cell_type": "markdown",
   "id": "a083d7a0",
   "metadata": {},
   "source": [
    "请注意，如果多个插件提供特定功能，则使用最后加载的插件。\n",
    "\n",
    "要查询插件的功能，请使用 `plugin_info`："
   ]
  },
  {
   "cell_type": "code",
   "execution_count": null,
   "id": "3556ee41",
   "metadata": {},
   "outputs": [],
   "source": [
    "io.plugin_info('pil')"
   ]
  },
  {
   "cell_type": "code",
   "execution_count": null,
   "id": "baab54c2",
   "metadata": {},
   "outputs": [],
   "source": []
  }
 ],
 "metadata": {
  "kernelspec": {
   "display_name": "image",
   "language": "python",
   "name": "image"
  },
  "language_info": {
   "codemirror_mode": {
    "name": "ipython",
    "version": 3
   },
   "file_extension": ".py",
   "mimetype": "text/x-python",
   "name": "python",
   "nbconvert_exporter": "python",
   "pygments_lexer": "ipython3",
   "version": "3.11.2"
  },
  "toc": {
   "base_numbering": 1,
   "nav_menu": {},
   "number_sections": false,
   "sideBar": true,
   "skip_h1_title": false,
   "title_cell": "Table of Contents",
   "title_sidebar": "Contents",
   "toc_cell": false,
   "toc_position": {},
   "toc_section_display": true,
   "toc_window_display": true
  }
 },
 "nbformat": 4,
 "nbformat_minor": 5
}
