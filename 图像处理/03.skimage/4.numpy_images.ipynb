{
 "cells": [
  {
   "cell_type": "markdown",
   "id": "ac69716a",
   "metadata": {
    "toc": true
   },
   "source": [
    "<h1>Table of Contents<span class=\"tocSkip\"></span></h1>\n",
    "<div class=\"toc\"><ul class=\"toc-item\"><li><span><a href=\"#4.1.-NumPy-indexing\" data-toc-modified-id=\"4.1.-NumPy-indexing-1\">4.1. NumPy indexing</a></span></li><li><span><a href=\"#4.2.-Color-images\" data-toc-modified-id=\"4.2.-Color-images-2\">4.2. Color images</a></span></li></ul></div>"
   ]
  },
  {
   "cell_type": "markdown",
   "id": "58a97490",
   "metadata": {},
   "source": [
    "# 4. A crash course on NumPy for images"
   ]
  },
  {
   "cell_type": "markdown",
   "id": "296e51fc",
   "metadata": {},
   "source": [
    "`scikit-image` 中的图像由 NumPy ndarrays 表示。因此，可以使用标准 NumPy 方法来操作 arrays 来实现许多常见操作："
   ]
  },
  {
   "cell_type": "code",
   "execution_count": 1,
   "id": "e2c161ed",
   "metadata": {},
   "outputs": [
    {
     "data": {
      "text/plain": [
       "numpy.ndarray"
      ]
     },
     "execution_count": 1,
     "metadata": {},
     "output_type": "execute_result"
    }
   ],
   "source": [
    "from skimage import data\n",
    "camera = data.camera()\n",
    "type(camera)"
   ]
  },
  {
   "cell_type": "code",
   "execution_count": null,
   "id": "3963f78c",
   "metadata": {},
   "outputs": [],
   "source": [
    "检索图像的几何形状和像素数："
   ]
  },
  {
   "cell_type": "code",
   "execution_count": 2,
   "id": "8c615ce0",
   "metadata": {},
   "outputs": [
    {
     "data": {
      "text/plain": [
       "(512, 512)"
      ]
     },
     "execution_count": 2,
     "metadata": {},
     "output_type": "execute_result"
    }
   ],
   "source": [
    "camera.shape"
   ]
  },
  {
   "cell_type": "code",
   "execution_count": 3,
   "id": "6cf2ded7",
   "metadata": {},
   "outputs": [
    {
     "data": {
      "text/plain": [
       "262144"
      ]
     },
     "execution_count": 3,
     "metadata": {},
     "output_type": "execute_result"
    }
   ],
   "source": [
    "camera.size"
   ]
  },
  {
   "cell_type": "markdown",
   "id": "c2a54735",
   "metadata": {},
   "source": [
    "检索有关图像强度值的统计信息："
   ]
  },
  {
   "cell_type": "code",
   "execution_count": 4,
   "id": "b02bf7f9",
   "metadata": {},
   "outputs": [
    {
     "data": {
      "text/plain": [
       "(0, 255)"
      ]
     },
     "execution_count": 4,
     "metadata": {},
     "output_type": "execute_result"
    }
   ],
   "source": [
    "camera.min(), camera.max()"
   ]
  },
  {
   "cell_type": "code",
   "execution_count": 5,
   "id": "74ff00f3",
   "metadata": {},
   "outputs": [
    {
     "data": {
      "text/plain": [
       "129.06072616577148"
      ]
     },
     "execution_count": 5,
     "metadata": {},
     "output_type": "execute_result"
    }
   ],
   "source": [
    "camera.mean()"
   ]
  },
  {
   "cell_type": "markdown",
   "id": "4dd4da3f",
   "metadata": {},
   "source": [
    "表示图像的 NumPy 数组可以是不同的整数或浮点数值类型。有关这些类型以及 `scikit-image` 如何处理它们的更多信息，请参阅 [Image data types and what they mean](https://scikit-image.org/docs/stable/user_guide/data_types.html#data-types)。"
   ]
  },
  {
   "cell_type": "markdown",
   "id": "2cef1c0f",
   "metadata": {},
   "source": [
    "## 4.1. NumPy indexing"
   ]
  },
  {
   "cell_type": "markdown",
   "id": "81067ef0",
   "metadata": {},
   "source": [
    "NumPy 索引既可用于查看像素值，也可用于修改它们："
   ]
  },
  {
   "cell_type": "code",
   "execution_count": 6,
   "id": "2ae85117",
   "metadata": {},
   "outputs": [
    {
     "data": {
      "text/plain": [
       "200"
      ]
     },
     "execution_count": 6,
     "metadata": {},
     "output_type": "execute_result"
    }
   ],
   "source": [
    "# Get the value of the pixel at the 10th row and 20th column\n",
    "camera[10, 20]"
   ]
  },
  {
   "cell_type": "code",
   "execution_count": 7,
   "id": "fa621433",
   "metadata": {},
   "outputs": [],
   "source": [
    "# Set to black the pixel at the 3rd row and 10th column\n",
    "camera[3, 10] = 0"
   ]
  },
  {
   "cell_type": "markdown",
   "id": "ce1c538e",
   "metadata": {},
   "source": [
    "当心！在 NumPy 索引中，第一个维度 (`camera.shape[0]`) 对应于行，而第二个维度 (`camera.shape[1]`) 对应于列，原点 (`camera[0, 0]`) 位于左上角角落。这与矩阵/线性代数表示法匹配，但与笛卡尔 (x, y) 坐标相反。有关更多详细信息，请参阅下面的 [Coordinate conventions](https://scikit-image.org/docs/stable/user_guide/numpy_images.html#coordinate-conventions)。\n",
    "\n",
    "除了单个像素之外，还可以使用 NumPy 的不同索引功能来访问/修改整组像素的值。\n",
    "\n",
    "切片："
   ]
  },
  {
   "cell_type": "code",
   "execution_count": 8,
   "id": "e9db1cd3",
   "metadata": {},
   "outputs": [],
   "source": [
    "# Set the first ten lines to \"black\" (0)\n",
    "camera[:10] = 0"
   ]
  },
  {
   "cell_type": "markdown",
   "id": "8fe0e968",
   "metadata": {},
   "source": [
    "掩码（使用布尔值掩码进行索引）："
   ]
  },
  {
   "cell_type": "code",
   "execution_count": 9,
   "id": "7cb1989f",
   "metadata": {},
   "outputs": [],
   "source": [
    "mask = camera < 87\n",
    "# Set to \"white\" (255) the pixels where mask is True\n",
    "camera[mask] = 255"
   ]
  },
  {
   "cell_type": "markdown",
   "id": "bb6befdc",
   "metadata": {},
   "source": [
    "花式索引（使用索引集进行索引）："
   ]
  },
  {
   "cell_type": "code",
   "execution_count": 11,
   "id": "aad0381b",
   "metadata": {},
   "outputs": [],
   "source": [
    "import numpy as np\n",
    "inds_r = np.arange(len(camera))\n",
    "inds_c = 4 * inds_r % len(camera)\n",
    "camera[inds_r, inds_c] = 0"
   ]
  },
  {
   "cell_type": "markdown",
   "id": "ecc0fb78",
   "metadata": {},
   "source": [
    "当您需要选择一组像素来执行操作时，掩码（Masks）非常有用。掩码可以是与图像形状相同的任何布尔数组（或可广播到图像形状的形状）。这可用于定义感兴趣的区域，例如磁盘形状："
   ]
  },
  {
   "cell_type": "code",
   "execution_count": 12,
   "id": "40b47850",
   "metadata": {},
   "outputs": [],
   "source": [
    "nrows, ncols = camera.shape\n",
    "row, col = np.ogrid[:nrows, :ncols]\n",
    "cnt_row, cnt_col = nrows / 2, ncols / 2\n",
    "outer_disk_mask = ((row - cnt_row)**2 + (col - cnt_col)**2 >\n",
    "                   (nrows / 2)**2)\n",
    "camera[outer_disk_mask] = 0"
   ]
  },
  {
   "cell_type": "markdown",
   "id": "0ae141eb",
   "metadata": {},
   "source": [
    "![camera](https://scikit-image.org/docs/stable/_images/sphx_glr_plot_camera_numpy_001.png)"
   ]
  },
  {
   "cell_type": "markdown",
   "id": "3e42ffd2",
   "metadata": {},
   "source": [
    "NumPy 的布尔运算可用于定义更复杂的掩码："
   ]
  },
  {
   "cell_type": "code",
   "execution_count": 14,
   "id": "8033ca89",
   "metadata": {},
   "outputs": [],
   "source": [
    "lower_half = row > cnt_row\n",
    "lower_half_disk = np.logical_and(lower_half, outer_disk_mask)\n",
    "camera = data.camera()\n",
    "camera[lower_half_disk] = 0"
   ]
  },
  {
   "cell_type": "markdown",
   "id": "3cbad390",
   "metadata": {},
   "source": [
    "## 4.2. Color images"
   ]
  },
  {
   "cell_type": "code",
   "execution_count": null,
   "id": "3e4c70c1",
   "metadata": {},
   "outputs": [],
   "source": []
  },
  {
   "cell_type": "code",
   "execution_count": null,
   "id": "760fc8ed",
   "metadata": {},
   "outputs": [],
   "source": []
  }
 ],
 "metadata": {
  "kernelspec": {
   "display_name": "image",
   "language": "python",
   "name": "image"
  },
  "language_info": {
   "codemirror_mode": {
    "name": "ipython",
    "version": 3
   },
   "file_extension": ".py",
   "mimetype": "text/x-python",
   "name": "python",
   "nbconvert_exporter": "python",
   "pygments_lexer": "ipython3",
   "version": "3.11.2"
  },
  "toc": {
   "base_numbering": 1,
   "nav_menu": {},
   "number_sections": false,
   "sideBar": true,
   "skip_h1_title": true,
   "title_cell": "Table of Contents",
   "title_sidebar": "Contents",
   "toc_cell": true,
   "toc_position": {
    "height": "calc(100% - 180px)",
    "left": "10px",
    "top": "150px",
    "width": "384px"
   },
   "toc_section_display": true,
   "toc_window_display": true
  }
 },
 "nbformat": 4,
 "nbformat_minor": 5
}
