{
 "cells": [
  {
   "cell_type": "markdown",
   "id": "ebe9b6aa",
   "metadata": {},
   "source": [
    "# 8. Data visualization"
   ]
  },
  {
   "cell_type": "markdown",
   "id": "9f6867bd",
   "metadata": {},
   "source": [
    "数据可视化在图像处理中占有重要地位。数据可以是单个 2D 灰度图像，也可以是具有多维方面的更复杂的图像：空间 3D、延时拍摄、多通道。"
   ]
  },
  {
   "cell_type": "markdown",
   "id": "0fff42e3",
   "metadata": {},
   "source": [
    "因此，可视化策略将取决于数据的复杂性，并且 scikit-image 外部的一系列工具可用于此目的。从历史上看，scikit-image 提供了查看器工具，但现在可以使用功能强大的软件包，并且必须是首选。"
   ]
  },
  {
   "cell_type": "markdown",
   "id": "24471b3c",
   "metadata": {},
   "source": [
    "## 8.1. Matplotlib"
   ]
  },
  {
   "cell_type": "markdown",
   "id": "136410cc",
   "metadata": {},
   "source": [
    "[Matplotlib](https://matplotlib.org/) 是一个能够生成静态图的库，其中包括图像可视化。"
   ]
  },
  {
   "cell_type": "markdown",
   "id": "6ca558ea",
   "metadata": {},
   "source": [
    "## 8.2. Plotly"
   ]
  },
  {
   "cell_type": "markdown",
   "id": "71461fa0",
   "metadata": {},
   "source": [
    "[Plotly](https://dash.plotly.com/) 是一个依赖于 Web 技术、具有交互功能的绘图库。"
   ]
  },
  {
   "cell_type": "markdown",
   "id": "45fe4069",
   "metadata": {},
   "source": [
    "## 8.3. Mayavi"
   ]
  },
  {
   "cell_type": "markdown",
   "id": "886a0aef",
   "metadata": {},
   "source": [
    "[Mayavi](https://docs.enthought.com/mayavi/mayavi/) 可用于可视化 3D 图像。"
   ]
  },
  {
   "cell_type": "markdown",
   "id": "e0f130aa",
   "metadata": {},
   "source": [
    "## 8.4. Napari"
   ]
  },
  {
   "cell_type": "markdown",
   "id": "3dee4a3b",
   "metadata": {},
   "source": [
    "[Napari](https://napari.org/) 是一个多维图像查看器。它专为浏览、注释和分析大型多维图像而设计。"
   ]
  },
  {
   "cell_type": "code",
   "execution_count": null,
   "id": "65d42aa1",
   "metadata": {},
   "outputs": [],
   "source": []
  }
 ],
 "metadata": {
  "kernelspec": {
   "display_name": "image",
   "language": "python",
   "name": "image"
  },
  "language_info": {
   "codemirror_mode": {
    "name": "ipython",
    "version": 3
   },
   "file_extension": ".py",
   "mimetype": "text/x-python",
   "name": "python",
   "nbconvert_exporter": "python",
   "pygments_lexer": "ipython3",
   "version": "3.11.2"
  },
  "toc": {
   "base_numbering": 1,
   "nav_menu": {},
   "number_sections": false,
   "sideBar": true,
   "skip_h1_title": false,
   "title_cell": "Table of Contents",
   "title_sidebar": "Contents",
   "toc_cell": false,
   "toc_position": {},
   "toc_section_display": true,
   "toc_window_display": false
  }
 },
 "nbformat": 4,
 "nbformat_minor": 5
}
