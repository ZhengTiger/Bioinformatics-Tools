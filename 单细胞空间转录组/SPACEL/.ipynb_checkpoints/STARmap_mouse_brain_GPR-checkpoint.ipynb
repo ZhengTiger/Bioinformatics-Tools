{
 "cells": [
  {
   "cell_type": "markdown",
   "id": "a58fc704-6a4a-4654-a175-6c416337b755",
   "metadata": {},
   "source": [
    "# Scube tutorial: 3D expression modeling with gaussian process regression\n",
    "# 使用高斯过程回归进行 3D 表达建模"
   ]
  },
  {
   "cell_type": "markdown",
   "id": "26198cb2-e7f5-4de9-9bbe-d7e187840624",
   "metadata": {},
   "source": [
    "Dataset: 3D STARmap of mouse brain ([here](https://zenodo.org/record/8167488))."
   ]
  },
  {
   "cell_type": "markdown",
   "id": "86680a78-613e-4167-8f3f-9cbdc609c29a",
   "metadata": {},
   "source": [
    "注意：如果要在 Scube 中运行 3D 表达 GPR 模型，需要先安装 [Open3D](http://www.open3d.org/docs/release/) python 库。"
   ]
  },
  {
   "cell_type": "code",
   "execution_count": 2,
   "id": "aa4e4662-7ea7-4c6e-8b2c-143f00c0adfd",
   "metadata": {},
   "outputs": [
    {
     "name": "stdout",
     "output_type": "stream",
     "text": [
      "Setting environment seed: 42\n",
      "Jupyter environment detected. Enabling Open3D WebVisualizer.\n",
      "[Open3D INFO] WebRTC GUI backend enabled.\n",
      "[Open3D INFO] WebRTCWindowSystem: HTTP handshake server disabled.\n"
     ]
    }
   ],
   "source": [
    "from SPACEL.setting import set_environ_seed\n",
    "set_environ_seed()\n",
    "from SPACEL import Scube\n",
    "from SPACEL.Scube.utils_3d import create_mesh, smooth_mesh, sample_in_mesh, get_surface_colors, save_view_parameters, load_view_parameters\n",
    "import scanpy as sc\n",
    "import numpy as np\n",
    "import pandas as pd\n",
    "np.random.seed(42)"
   ]
  },
  {
   "cell_type": "markdown",
   "id": "dffb1949-a852-4b0e-8d1f-5af457b56047",
   "metadata": {},
   "source": [
    "## Load data"
   ]
  },
  {
   "cell_type": "markdown",
   "id": "e8240bb2-7a68-4b5b-b281-032a62d7857e",
   "metadata": {},
   "source": [
    "3D 表达模型的输入数据类型是归一化表达和每个 spot/cell 的 3D 坐标。"
   ]
  },
  {
   "cell_type": "code",
   "execution_count": 3,
   "id": "b4d5f007-226a-49cc-b58c-7f0f3e88dce7",
   "metadata": {},
   "outputs": [],
   "source": [
    "st_ad = sc.read_h5ad('data/starmap_3d_mouse_brain/starmap_3d_mouse_brain.h5ad')\n",
    "sc.pp.normalize_total(st_ad,target_sum=1e4)\n",
    "sc.pp.log1p(st_ad)\n",
    "\n",
    "# Normalized expression data (rows as spots/cells, columns as genes)\n",
    "norm_expr = st_ad.to_df()\n",
    "\n",
    "# 3D location (rows as spots/cells, columns as x,y,z axis coordinate)\n",
    "loc = st_ad.obsm['spatial'].copy()"
   ]
  },
  {
   "cell_type": "markdown",
   "id": "d0847cdc-63b5-43fe-a0f0-48d8b7214d20",
   "metadata": {},
   "source": [
    "## Generate 3D surface"
   ]
  },
  {
   "cell_type": "markdown",
   "id": "05161b09-3ace-43b9-9620-04b4a72d7595",
   "metadata": {},
   "source": [
    "在此步骤中，我们使用 alpha 形状方法从 spots/cells 的 3D 位置坐标创建三角形网格。默认情况下，参数 α 是自动估计的，它会影响网格中三角形的数量。"
   ]
  },
  {
   "cell_type": "code",
   "execution_count": 5,
   "id": "2140cb4f-af2e-4f0a-a503-89594d630328",
   "metadata": {},
   "outputs": [
    {
     "ename": "RuntimeError",
     "evalue": "Unable to cast Python instance to C++ type (compile in debug mode for details)",
     "output_type": "error",
     "traceback": [
      "\u001b[0;31m---------------------------------------------------------------------------\u001b[0m",
      "\u001b[0;31mRuntimeError\u001b[0m                              Traceback (most recent call last)",
      "Cell \u001b[0;32mIn[5], line 1\u001b[0m\n\u001b[0;32m----> 1\u001b[0m mesh \u001b[38;5;241m=\u001b[39m \u001b[43mcreate_mesh\u001b[49m\u001b[43m(\u001b[49m\u001b[43mloc\u001b[49m\u001b[38;5;241;43m.\u001b[39;49m\u001b[43mvalues\u001b[49m\u001b[43m,\u001b[49m\u001b[43malpha\u001b[49m\u001b[38;5;241;43m=\u001b[39;49m\u001b[38;5;241;43m80\u001b[39;49m\u001b[43m,\u001b[49m\u001b[43mshow\u001b[49m\u001b[38;5;241;43m=\u001b[39;49m\u001b[38;5;28;43;01mFalse\u001b[39;49;00m\u001b[43m)\u001b[49m\n",
      "File \u001b[0;32m~/anaconda3/envs/SPACEL/lib/python3.8/site-packages/SPACEL/Scube/utils_3d.py:51\u001b[0m, in \u001b[0;36mcreate_mesh\u001b[0;34m(loc, alpha, show)\u001b[0m\n\u001b[1;32m     38\u001b[0m \u001b[38;5;250m\u001b[39m\u001b[38;5;124;03m\"\"\"Create Mesh.\u001b[39;00m\n\u001b[1;32m     39\u001b[0m \n\u001b[1;32m     40\u001b[0m \u001b[38;5;124;03mCreating a mesh for a tissue. \u001b[39;00m\n\u001b[0;32m   (...)\u001b[0m\n\u001b[1;32m     48\u001b[0m \u001b[38;5;124;03m    A mesh object.\u001b[39;00m\n\u001b[1;32m     49\u001b[0m \u001b[38;5;124;03m\"\"\"\u001b[39;00m\n\u001b[1;32m     50\u001b[0m pcd \u001b[38;5;241m=\u001b[39m o3d\u001b[38;5;241m.\u001b[39mgeometry\u001b[38;5;241m.\u001b[39mPointCloud()\n\u001b[0;32m---> 51\u001b[0m pcd\u001b[38;5;241m.\u001b[39mpoints \u001b[38;5;241m=\u001b[39m \u001b[43mo3d\u001b[49m\u001b[38;5;241;43m.\u001b[39;49m\u001b[43mutility\u001b[49m\u001b[38;5;241;43m.\u001b[39;49m\u001b[43mVector3dVector\u001b[49m\u001b[43m(\u001b[49m\u001b[43mloc\u001b[49m\u001b[43m)\u001b[49m\n\u001b[1;32m     52\u001b[0m \u001b[38;5;28;01mif\u001b[39;00m alpha \u001b[38;5;129;01mis\u001b[39;00m \u001b[38;5;28;01mNone\u001b[39;00m:\n\u001b[1;32m     53\u001b[0m     alpha \u001b[38;5;241m=\u001b[39m get_alpha(loc)\n",
      "\u001b[0;31mRuntimeError\u001b[0m: Unable to cast Python instance to C++ type (compile in debug mode for details)"
     ]
    }
   ],
   "source": [
    "mesh = create_mesh(loc.values,alpha=80,show=False)"
   ]
  },
  {
   "cell_type": "markdown",
   "id": "1b2b6cfb-2414-4be8-8f1a-822796a53132",
   "metadata": {},
   "source": [
    "为了获得平滑的网格，我们可以对网格使用 Taubin 滤波器和网格细分。通过增加 `taubin_iter` 和 `subdivide_iter` 将生成更平滑的网格。"
   ]
  },
  {
   "cell_type": "code",
   "execution_count": null,
   "id": "4be8f486-7049-46c3-947c-c26f147ee9d9",
   "metadata": {},
   "outputs": [],
   "source": [
    "mesh = smooth_mesh(mesh,taubin_iter=10,subdivide_iter=3,show=False)"
   ]
  },
  {
   "cell_type": "markdown",
   "id": "05d196ec-86e2-4833-96d2-bedc5adf3fe6",
   "metadata": {},
   "source": [
    "从网格内部采样 500000 个位置坐标并获取网格表面的顶点。"
   ]
  },
  {
   "cell_type": "code",
   "execution_count": null,
   "id": "d76a0348-5814-4ede-907e-4c035220d676",
   "metadata": {},
   "outputs": [],
   "source": [
    "loc_sampled,loc_surface = sample_in_mesh(mesh,loc.values)"
   ]
  },
  {
   "cell_type": "markdown",
   "id": "f4d66db4-799a-466a-813f-7386bc4bd841",
   "metadata": {},
   "source": [
    "## Gaussian process regression"
   ]
  },
  {
   "cell_type": "markdown",
   "id": "c2a1d6b8-5ece-4659-b937-dde5defbfb4e",
   "metadata": {},
   "source": [
    "为了使 GPR 模型具有更好的性能，我们建议将位置坐标值调整为 0 到 10 左右。"
   ]
  },
  {
   "cell_type": "code",
   "execution_count": null,
   "id": "ac49554c-0cff-4b27-849e-6cb01695b026",
   "metadata": {},
   "outputs": [],
   "source": [
    "loc = loc/1000\n",
    "loc_sampled = loc_sampled/1000"
   ]
  },
  {
   "cell_type": "markdown",
   "id": "9ee44d73-579a-41cf-97ad-2428aaa0213c",
   "metadata": {},
   "source": [
    "然后，我们构建 GPR 模型并对其进行训练直至收敛。如果 GPU 设备可用，请将 `use_gpu` 设置为 `True`"
   ]
  },
  {
   "cell_type": "code",
   "execution_count": null,
   "id": "003a36ec-397c-45ff-95b9-4fbef5e5e50b",
   "metadata": {},
   "outputs": [],
   "source": [
    "gpr_model = Scube.GPRmodel(norm_expr,loc.values,loc_sampled,used_genes=norm_expr.columns,use_gpu=False)"
   ]
  },
  {
   "cell_type": "code",
   "execution_count": null,
   "id": "ba553cd2-bd7a-4729-86c6-743bfd40bcf8",
   "metadata": {},
   "outputs": [],
   "source": [
    "gpr_model.train(lr=.02,training_iter=50,save_model=True,cal_bf=True,optim_l=True,optimize_method='Adam')"
   ]
  },
  {
   "cell_type": "markdown",
   "id": "62362925-78c8-4a7d-96fd-27f655c09ef8",
   "metadata": {},
   "source": [
    "通过计算贝叶斯因子，我们可以统计识别 3D 表达模型中空间变化的基因。对于基因来说，贝叶斯因子值越大表示空间变异越大。"
   ]
  },
  {
   "cell_type": "markdown",
   "id": "569e25c9-7074-4fbd-a7f9-43c4623ff21a",
   "metadata": {},
   "source": [
    "## Visualization"
   ]
  },
  {
   "cell_type": "markdown",
   "id": "4fb90dcc-8863-4cdc-99ff-7a2f6fa068c8",
   "metadata": {},
   "source": [
    "任何基因的 GRP 模型结果的可视化。"
   ]
  },
  {
   "cell_type": "code",
   "execution_count": null,
   "id": "1bf74b11-10f9-413e-89c7-c28a0e8d9358",
   "metadata": {},
   "outputs": [],
   "source": [
    "g = 'Cux2'\n",
    "\n",
    "# Expression of sampled location from the 3D mesh\n",
    "sampled_expr = gpr_model.plot_gpr_expr(g,s=.1,training_iter=50,lr=.02,save=False,show=True,elev=45,azim=45,cmap='Spectral_r',zlim=(-0.3,0.4))\n",
    "\n",
    "# Expression of surface location from the 3D mesh\n",
    "surface_expr = gpr_model.plot_gpr_expr(g,data=loc_surface/1000,s=.1,training_iter=50,lr=.02,save=False,show=True,elev=45,azim=45,cmap='Spectral_r',zlim=(-0.3,0.4))\n",
    "\n",
    "# Expression of measurement location from the observation\n",
    "Scube.plot_3d(loc=loc.values,val=norm_expr[g],s=.1,show=True,elev=45,azim=45,zlim=(-0.3,0.4))"
   ]
  },
  {
   "cell_type": "markdown",
   "id": "497f6c63-84f1-4250-9667-78b984fcb6f3",
   "metadata": {},
   "source": [
    "此步骤用 GPR 表达对网格表面进行着色。它可用于通过 `Open3D` 库对 GRP 模型结果进行可视化。"
   ]
  },
  {
   "cell_type": "code",
   "execution_count": null,
   "id": "630ccc10-8cb2-49dc-95d4-fb62bc3269a8",
   "metadata": {},
   "outputs": [],
   "source": [
    "get_surface_colors(mesh,surface_expr)"
   ]
  },
  {
   "cell_type": "markdown",
   "id": "78107de8-0e4d-4a29-a3b6-5c2b80ea28aa",
   "metadata": {},
   "source": [
    "将相机视图参数保存在 json 文件中，然后在下一次可视化时加载它。"
   ]
  },
  {
   "cell_type": "code",
   "execution_count": null,
   "id": "35626b5a-e563-4032-b4db-b14bfc4690c8",
   "metadata": {},
   "outputs": [],
   "source": [
    "save_view_parameters(mesh, 'view_parameters.json')"
   ]
  },
  {
   "cell_type": "code",
   "execution_count": null,
   "id": "1fb121c6-792b-4ad9-bcb7-4bbd2f74a1de",
   "metadata": {},
   "outputs": [],
   "source": [
    "g = 'Mbp'\n",
    "# Expression of surface location from the 3D mesh\n",
    "surface_expr = gpr_model.plot_gpr_expr(g,data=loc_surface/1000,s=.1,training_iter=50,lr=.02,save=False,show=False,elev=45,azim=45,cmap='Spectral_r',zlim=(-0.3,0.4))\n",
    "get_surface_colors(mesh,surface_expr)\n",
    "load_view_parameters(mesh, 'view_parameters.json')"
   ]
  },
  {
   "cell_type": "code",
   "execution_count": null,
   "id": "ff22d8cf-8fb5-4e69-8efa-3220132b6fc7",
   "metadata": {},
   "outputs": [],
   "source": []
  },
  {
   "cell_type": "code",
   "execution_count": null,
   "id": "7b57f42d-039b-4958-8fce-aa1e1c9fa7c6",
   "metadata": {},
   "outputs": [],
   "source": []
  }
 ],
 "metadata": {
  "kernelspec": {
   "display_name": "SPACEL",
   "language": "python",
   "name": "spacel"
  },
  "language_info": {
   "codemirror_mode": {
    "name": "ipython",
    "version": 3
   },
   "file_extension": ".py",
   "mimetype": "text/x-python",
   "name": "python",
   "nbconvert_exporter": "python",
   "pygments_lexer": "ipython3",
   "version": "3.8.17"
  }
 },
 "nbformat": 4,
 "nbformat_minor": 5
}
