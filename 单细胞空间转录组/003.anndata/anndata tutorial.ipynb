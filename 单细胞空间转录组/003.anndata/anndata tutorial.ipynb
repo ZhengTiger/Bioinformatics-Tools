{
 "cells": [
  {
   "cell_type": "code",
   "execution_count": 1,
   "id": "6e431f67",
   "metadata": {},
   "outputs": [
    {
     "name": "stdout",
     "output_type": "stream",
     "text": [
      "0.8.0\n"
     ]
    }
   ],
   "source": [
    "import numpy as np\n",
    "import pandas as pd\n",
    "import anndata as ad\n",
    "from scipy.sparse import csr_matrix\n",
    "print(ad.__version__)"
   ]
  },
  {
   "cell_type": "markdown",
   "id": "b1b0f9c1",
   "metadata": {},
   "source": [
    "# Initializing AnnData"
   ]
  },
  {
   "cell_type": "markdown",
   "id": "8e78fb35",
   "metadata": {},
   "source": [
    "让我们从构建一个包含一些稀疏计数信息的基本 AnnData 对象开始，可能代表 gene expression counts。"
   ]
  },
  {
   "cell_type": "code",
   "execution_count": 18,
   "id": "d6f761a8",
   "metadata": {},
   "outputs": [
    {
     "data": {
      "text/plain": [
       "AnnData object with n_obs × n_vars = 100 × 2000"
      ]
     },
     "execution_count": 18,
     "metadata": {},
     "output_type": "execute_result"
    }
   ],
   "source": [
    "counts = csr_matrix(np.random.poisson(1, size=(100, 2000)), dtype=np.float32)\n",
    "adata = ad.AnnData(counts)\n",
    "adata"
   ]
  },
  {
   "cell_type": "markdown",
   "id": "601eb16e",
   "metadata": {},
   "source": [
    "我们看到 AnnData 提供了具有数据摘要统计的表示形式。我们传递的初始数据可以使用 adata.X 作为稀疏矩阵进行访问。"
   ]
  },
  {
   "cell_type": "code",
   "execution_count": 19,
   "id": "92db994c",
   "metadata": {},
   "outputs": [
    {
     "data": {
      "text/plain": [
       "<100x2000 sparse matrix of type '<class 'numpy.float32'>'\n",
       "\twith 126364 stored elements in Compressed Sparse Row format>"
      ]
     },
     "execution_count": 19,
     "metadata": {},
     "output_type": "execute_result"
    }
   ],
   "source": [
    "adata.X"
   ]
  },
  {
   "cell_type": "markdown",
   "id": "a86fe67c",
   "metadata": {},
   "source": [
    "现在，我们使用 .obs_names 和 .var_names 为 obs 和 var 轴提供索引。"
   ]
  },
  {
   "cell_type": "code",
   "execution_count": 20,
   "id": "553ba84f",
   "metadata": {},
   "outputs": [
    {
     "name": "stdout",
     "output_type": "stream",
     "text": [
      "Index(['Cell_0', 'Cell_1', 'Cell_2', 'Cell_3', 'Cell_4', 'Cell_5', 'Cell_6',\n",
      "       'Cell_7', 'Cell_8', 'Cell_9'],\n",
      "      dtype='object')\n"
     ]
    }
   ],
   "source": [
    "adata.obs_names = [f\"Cell_{i:d}\" for i in range(adata.n_obs)]\n",
    "adata.var_names = [f\"Gene_{i:d}\" for i in range(adata.n_vars)]\n",
    "print(adata.obs_names[:10])"
   ]
  },
  {
   "cell_type": "markdown",
   "id": "d44d8999",
   "metadata": {},
   "source": [
    "## Subsetting AnnData"
   ]
  },
  {
   "cell_type": "markdown",
   "id": "53a9f14f",
   "metadata": {},
   "source": [
    "这些索引值可用于对 AnnData 进行取子集，从而提供 AnnData 对象的视图。我们可以想象这对于将 AnnData 选取特定的细胞类型或感兴趣的基因模块的子集很有用。AnnData 取子集的规则与 Pandas DataFrame 的规则非常相似。您可以使用 obs_names/var_names、boolean masks, or cell index integer。"
   ]
  },
  {
   "cell_type": "code",
   "execution_count": 21,
   "id": "e6819253",
   "metadata": {},
   "outputs": [
    {
     "data": {
      "text/plain": [
       "View of AnnData object with n_obs × n_vars = 2 × 2"
      ]
     },
     "execution_count": 21,
     "metadata": {},
     "output_type": "execute_result"
    }
   ],
   "source": [
    "adata[[\"Cell_1\", \"Cell_10\"], [\"Gene_5\", \"Gene_1900\"]]"
   ]
  },
  {
   "cell_type": "markdown",
   "id": "f70b243c",
   "metadata": {},
   "source": [
    "# Adding aligned metadata"
   ]
  },
  {
   "cell_type": "markdown",
   "id": "b2efca90",
   "metadata": {},
   "source": [
    "## Observation/Variable level"
   ]
  },
  {
   "cell_type": "markdown",
   "id": "e3ead6b6",
   "metadata": {},
   "source": [
    "所以我们有了 object 的核心，现在我们想给 observation 和 variable levels 添加 metadata。这对于 AnnData 来说非常简单，adata.obs 和 adata.var 都是 Pandas DataFrames。"
   ]
  },
  {
   "cell_type": "code",
   "execution_count": 22,
   "id": "4ee4eaf6",
   "metadata": {},
   "outputs": [
    {
     "data": {
      "text/html": [
       "<div>\n",
       "<style scoped>\n",
       "    .dataframe tbody tr th:only-of-type {\n",
       "        vertical-align: middle;\n",
       "    }\n",
       "\n",
       "    .dataframe tbody tr th {\n",
       "        vertical-align: top;\n",
       "    }\n",
       "\n",
       "    .dataframe thead th {\n",
       "        text-align: right;\n",
       "    }\n",
       "</style>\n",
       "<table border=\"1\" class=\"dataframe\">\n",
       "  <thead>\n",
       "    <tr style=\"text-align: right;\">\n",
       "      <th></th>\n",
       "      <th>cell_type</th>\n",
       "    </tr>\n",
       "  </thead>\n",
       "  <tbody>\n",
       "    <tr>\n",
       "      <th>Cell_0</th>\n",
       "      <td>B</td>\n",
       "    </tr>\n",
       "    <tr>\n",
       "      <th>Cell_1</th>\n",
       "      <td>T</td>\n",
       "    </tr>\n",
       "    <tr>\n",
       "      <th>Cell_2</th>\n",
       "      <td>Monocyte</td>\n",
       "    </tr>\n",
       "    <tr>\n",
       "      <th>Cell_3</th>\n",
       "      <td>Monocyte</td>\n",
       "    </tr>\n",
       "    <tr>\n",
       "      <th>Cell_4</th>\n",
       "      <td>Monocyte</td>\n",
       "    </tr>\n",
       "    <tr>\n",
       "      <th>...</th>\n",
       "      <td>...</td>\n",
       "    </tr>\n",
       "    <tr>\n",
       "      <th>Cell_95</th>\n",
       "      <td>Monocyte</td>\n",
       "    </tr>\n",
       "    <tr>\n",
       "      <th>Cell_96</th>\n",
       "      <td>B</td>\n",
       "    </tr>\n",
       "    <tr>\n",
       "      <th>Cell_97</th>\n",
       "      <td>T</td>\n",
       "    </tr>\n",
       "    <tr>\n",
       "      <th>Cell_98</th>\n",
       "      <td>T</td>\n",
       "    </tr>\n",
       "    <tr>\n",
       "      <th>Cell_99</th>\n",
       "      <td>T</td>\n",
       "    </tr>\n",
       "  </tbody>\n",
       "</table>\n",
       "<p>100 rows × 1 columns</p>\n",
       "</div>"
      ],
      "text/plain": [
       "        cell_type\n",
       "Cell_0          B\n",
       "Cell_1          T\n",
       "Cell_2   Monocyte\n",
       "Cell_3   Monocyte\n",
       "Cell_4   Monocyte\n",
       "...           ...\n",
       "Cell_95  Monocyte\n",
       "Cell_96         B\n",
       "Cell_97         T\n",
       "Cell_98         T\n",
       "Cell_99         T\n",
       "\n",
       "[100 rows x 1 columns]"
      ]
     },
     "execution_count": 22,
     "metadata": {},
     "output_type": "execute_result"
    }
   ],
   "source": [
    "ct = np.random.choice([\"B\", \"T\", \"Monocyte\"], size=(adata.n_obs,))\n",
    "adata.obs[\"cell_type\"] = pd.Categorical(ct)  # Categoricals are preferred for efficiency\n",
    "adata.obs"
   ]
  },
  {
   "cell_type": "markdown",
   "id": "7eac4d35",
   "metadata": {},
   "source": [
    "我们现在还可以看到 AnnData 表示已经更新："
   ]
  },
  {
   "cell_type": "code",
   "execution_count": 23,
   "id": "8528eeb6",
   "metadata": {
    "scrolled": true
   },
   "outputs": [
    {
     "data": {
      "text/plain": [
       "AnnData object with n_obs × n_vars = 100 × 2000\n",
       "    obs: 'cell_type'"
      ]
     },
     "execution_count": 23,
     "metadata": {},
     "output_type": "execute_result"
    }
   ],
   "source": [
    "adata"
   ]
  },
  {
   "cell_type": "markdown",
   "id": "650ec4e4",
   "metadata": {},
   "source": [
    "## Subsetting using metadata"
   ]
  },
  {
   "cell_type": "markdown",
   "id": "07754e6c",
   "metadata": {},
   "source": [
    "我们还可以使用这些随机生成的细胞类型对 AnnData 进行取子集："
   ]
  },
  {
   "cell_type": "code",
   "execution_count": 11,
   "id": "31731ca9",
   "metadata": {},
   "outputs": [
    {
     "data": {
      "text/plain": [
       "View of AnnData object with n_obs × n_vars = 32 × 2000\n",
       "    obs: 'cell_type'"
      ]
     },
     "execution_count": 11,
     "metadata": {},
     "output_type": "execute_result"
    }
   ],
   "source": [
    "bdata = adata[adata.obs.cell_type == \"B\"]\n",
    "bdata"
   ]
  },
  {
   "cell_type": "markdown",
   "id": "42429b2e",
   "metadata": {},
   "source": [
    "# Observation/variable-level matrices"
   ]
  },
  {
   "cell_type": "markdown",
   "id": "58c3b5dd",
   "metadata": {},
   "source": [
    "我们也可能在任一 level 都有 metadata，这些 metadata 具有许多维度，例如数据的 UMAP embedding。对于这种类型的 metadata，AnnData 具有 .obsm/.varm 属性。我们使用 keys 来识别我们插入的不同矩阵。.obsm/.varm 的限制是 .obsm 矩阵的长度必须等于 .n_obs(observations的数目)，而 .varm 矩阵的长度必须等于 .n_vars。它们可以各自独立地具有不同数量的维度。"
   ]
  },
  {
   "cell_type": "markdown",
   "id": "c36a64fe",
   "metadata": {},
   "source": [
    "让我们从一个随机生成的矩阵开始，我们可以将其解释为我们想要存储的数据的 UMAP embedding，以及一些随机的 gene-level metadata："
   ]
  },
  {
   "cell_type": "code",
   "execution_count": 24,
   "id": "2e2433da",
   "metadata": {},
   "outputs": [
    {
     "data": {
      "text/plain": [
       "AxisArrays with keys: X_umap"
      ]
     },
     "execution_count": 24,
     "metadata": {},
     "output_type": "execute_result"
    }
   ],
   "source": [
    "adata.obsm[\"X_umap\"] = np.random.normal(0, 1, size=(adata.n_obs, 2))\n",
    "adata.varm[\"gene_stuff\"] = np.random.normal(0, 1, size=(adata.n_vars, 5))\n",
    "adata.obsm"
   ]
  },
  {
   "cell_type": "markdown",
   "id": "b7eee520",
   "metadata": {},
   "source": [
    "同样，可以看到 AnnData 表示已经更新："
   ]
  },
  {
   "cell_type": "code",
   "execution_count": 26,
   "id": "a6431653",
   "metadata": {},
   "outputs": [
    {
     "data": {
      "text/plain": [
       "AnnData object with n_obs × n_vars = 100 × 2000\n",
       "    obs: 'cell_type'\n",
       "    obsm: 'X_umap'\n",
       "    varm: 'gene_stuff'"
      ]
     },
     "execution_count": 26,
     "metadata": {},
     "output_type": "execute_result"
    }
   ],
   "source": [
    "adata"
   ]
  },
  {
   "cell_type": "markdown",
   "id": "23303f61",
   "metadata": {},
   "source": [
    "关于 .obsm/.varm 的更多说明：  \n",
    "1.\"array-like\" metadata 可以源自 Pandas DataFrame、scipy sparse matrix 或 numpy dense array。  \n",
    "2.使用 scanpy 时，它们的 values(columns) 不容易绘制，取而代之的是 .obs 中的项目很容易绘制，例如 UMAP 图。"
   ]
  },
  {
   "cell_type": "markdown",
   "id": "cec0ef41",
   "metadata": {},
   "source": [
    "# Unstructured metadata"
   ]
  },
  {
   "cell_type": "markdown",
   "id": "fa6ee07c",
   "metadata": {},
   "source": [
    "AnnData 有 .uns，它允许任何 unstructured metadata。这可以是任何东西，例如包含一些对我们的数据分析有用的一般信息的 list 或 dictionary。"
   ]
  },
  {
   "cell_type": "code",
   "execution_count": 30,
   "id": "8db11da2",
   "metadata": {},
   "outputs": [
    {
     "data": {
      "text/plain": [
       "OverloadedDict, wrapping:\n",
       "\tOrderedDict([('random', [1, 2, 3])])\n",
       "With overloaded keys:\n",
       "\t['neighbors']."
      ]
     },
     "execution_count": 30,
     "metadata": {},
     "output_type": "execute_result"
    }
   ],
   "source": [
    "adata.uns[\"random\"] = [1, 2, 3]\n",
    "adata.uns"
   ]
  },
  {
   "cell_type": "markdown",
   "id": "4111daf5",
   "metadata": {},
   "source": [
    "# Layers"
   ]
  },
  {
   "cell_type": "markdown",
   "id": "2222e4a2",
   "metadata": {},
   "source": [
    "最后，我们可能有不同形式的原始核心数据，可能一种是 normalized 的，另一种不是。这些可以存储在 AnnData 的不同 layers 中。例如，让我们对原始数据进行 log transform 并将其存储在一个 layer 中："
   ]
  },
  {
   "cell_type": "code",
   "execution_count": 31,
   "id": "c8e26e90",
   "metadata": {},
   "outputs": [
    {
     "data": {
      "text/plain": [
       "AnnData object with n_obs × n_vars = 100 × 2000\n",
       "    obs: 'cell_type'\n",
       "    uns: 'random'\n",
       "    obsm: 'X_umap'\n",
       "    varm: 'gene_stuff'\n",
       "    layers: 'log_transformed'"
      ]
     },
     "execution_count": 31,
     "metadata": {},
     "output_type": "execute_result"
    }
   ],
   "source": [
    "adata.layers[\"log_transformed\"] = np.log1p(adata.X)\n",
    "adata"
   ]
  },
  {
   "cell_type": "markdown",
   "id": "c8ecf328",
   "metadata": {},
   "source": [
    "# Conversion to DataFrames"
   ]
  },
  {
   "cell_type": "markdown",
   "id": "0f868065",
   "metadata": {},
   "source": [
    "我们还可以访问 AnnData 从其中一个 layer 返回一个 DataFrame："
   ]
  },
  {
   "cell_type": "code",
   "execution_count": 38,
   "id": "952909f1",
   "metadata": {},
   "outputs": [
    {
     "data": {
      "text/html": [
       "<div>\n",
       "<style scoped>\n",
       "    .dataframe tbody tr th:only-of-type {\n",
       "        vertical-align: middle;\n",
       "    }\n",
       "\n",
       "    .dataframe tbody tr th {\n",
       "        vertical-align: top;\n",
       "    }\n",
       "\n",
       "    .dataframe thead th {\n",
       "        text-align: right;\n",
       "    }\n",
       "</style>\n",
       "<table border=\"1\" class=\"dataframe\">\n",
       "  <thead>\n",
       "    <tr style=\"text-align: right;\">\n",
       "      <th></th>\n",
       "      <th>Gene_0</th>\n",
       "      <th>Gene_1</th>\n",
       "      <th>Gene_2</th>\n",
       "      <th>Gene_3</th>\n",
       "      <th>Gene_4</th>\n",
       "      <th>Gene_5</th>\n",
       "      <th>Gene_6</th>\n",
       "      <th>Gene_7</th>\n",
       "      <th>Gene_8</th>\n",
       "      <th>Gene_9</th>\n",
       "      <th>...</th>\n",
       "      <th>Gene_1990</th>\n",
       "      <th>Gene_1991</th>\n",
       "      <th>Gene_1992</th>\n",
       "      <th>Gene_1993</th>\n",
       "      <th>Gene_1994</th>\n",
       "      <th>Gene_1995</th>\n",
       "      <th>Gene_1996</th>\n",
       "      <th>Gene_1997</th>\n",
       "      <th>Gene_1998</th>\n",
       "      <th>Gene_1999</th>\n",
       "    </tr>\n",
       "  </thead>\n",
       "  <tbody>\n",
       "    <tr>\n",
       "      <th>Cell_0</th>\n",
       "      <td>0.693147</td>\n",
       "      <td>0.000000</td>\n",
       "      <td>1.098612</td>\n",
       "      <td>0.000000</td>\n",
       "      <td>0.000000</td>\n",
       "      <td>1.609438</td>\n",
       "      <td>1.098612</td>\n",
       "      <td>0.693147</td>\n",
       "      <td>0.000000</td>\n",
       "      <td>0.000000</td>\n",
       "      <td>...</td>\n",
       "      <td>1.098612</td>\n",
       "      <td>0.000000</td>\n",
       "      <td>0.000000</td>\n",
       "      <td>1.098612</td>\n",
       "      <td>0.000000</td>\n",
       "      <td>0.693147</td>\n",
       "      <td>1.386294</td>\n",
       "      <td>0.693147</td>\n",
       "      <td>0.693147</td>\n",
       "      <td>0.000000</td>\n",
       "    </tr>\n",
       "    <tr>\n",
       "      <th>Cell_1</th>\n",
       "      <td>1.098612</td>\n",
       "      <td>0.000000</td>\n",
       "      <td>0.693147</td>\n",
       "      <td>1.098612</td>\n",
       "      <td>1.098612</td>\n",
       "      <td>0.000000</td>\n",
       "      <td>1.098612</td>\n",
       "      <td>0.693147</td>\n",
       "      <td>0.000000</td>\n",
       "      <td>0.693147</td>\n",
       "      <td>...</td>\n",
       "      <td>1.098612</td>\n",
       "      <td>0.000000</td>\n",
       "      <td>0.693147</td>\n",
       "      <td>0.693147</td>\n",
       "      <td>0.000000</td>\n",
       "      <td>0.693147</td>\n",
       "      <td>0.000000</td>\n",
       "      <td>0.000000</td>\n",
       "      <td>0.693147</td>\n",
       "      <td>0.000000</td>\n",
       "    </tr>\n",
       "    <tr>\n",
       "      <th>Cell_2</th>\n",
       "      <td>1.098612</td>\n",
       "      <td>0.693147</td>\n",
       "      <td>0.693147</td>\n",
       "      <td>0.693147</td>\n",
       "      <td>0.693147</td>\n",
       "      <td>0.000000</td>\n",
       "      <td>1.098612</td>\n",
       "      <td>0.000000</td>\n",
       "      <td>1.386294</td>\n",
       "      <td>0.693147</td>\n",
       "      <td>...</td>\n",
       "      <td>1.098612</td>\n",
       "      <td>0.000000</td>\n",
       "      <td>0.000000</td>\n",
       "      <td>1.098612</td>\n",
       "      <td>1.098612</td>\n",
       "      <td>0.693147</td>\n",
       "      <td>0.000000</td>\n",
       "      <td>1.098612</td>\n",
       "      <td>0.000000</td>\n",
       "      <td>0.693147</td>\n",
       "    </tr>\n",
       "    <tr>\n",
       "      <th>Cell_3</th>\n",
       "      <td>0.000000</td>\n",
       "      <td>0.693147</td>\n",
       "      <td>0.693147</td>\n",
       "      <td>0.000000</td>\n",
       "      <td>0.693147</td>\n",
       "      <td>0.693147</td>\n",
       "      <td>0.000000</td>\n",
       "      <td>0.693147</td>\n",
       "      <td>0.000000</td>\n",
       "      <td>0.693147</td>\n",
       "      <td>...</td>\n",
       "      <td>0.000000</td>\n",
       "      <td>0.000000</td>\n",
       "      <td>0.000000</td>\n",
       "      <td>1.609438</td>\n",
       "      <td>1.098612</td>\n",
       "      <td>0.693147</td>\n",
       "      <td>0.693147</td>\n",
       "      <td>1.098612</td>\n",
       "      <td>0.000000</td>\n",
       "      <td>0.000000</td>\n",
       "    </tr>\n",
       "    <tr>\n",
       "      <th>Cell_4</th>\n",
       "      <td>0.000000</td>\n",
       "      <td>0.693147</td>\n",
       "      <td>0.000000</td>\n",
       "      <td>0.693147</td>\n",
       "      <td>1.386294</td>\n",
       "      <td>0.000000</td>\n",
       "      <td>1.609438</td>\n",
       "      <td>0.000000</td>\n",
       "      <td>0.000000</td>\n",
       "      <td>0.693147</td>\n",
       "      <td>...</td>\n",
       "      <td>0.000000</td>\n",
       "      <td>0.693147</td>\n",
       "      <td>0.693147</td>\n",
       "      <td>0.000000</td>\n",
       "      <td>0.693147</td>\n",
       "      <td>1.098612</td>\n",
       "      <td>0.693147</td>\n",
       "      <td>0.693147</td>\n",
       "      <td>1.098612</td>\n",
       "      <td>1.386294</td>\n",
       "    </tr>\n",
       "    <tr>\n",
       "      <th>...</th>\n",
       "      <td>...</td>\n",
       "      <td>...</td>\n",
       "      <td>...</td>\n",
       "      <td>...</td>\n",
       "      <td>...</td>\n",
       "      <td>...</td>\n",
       "      <td>...</td>\n",
       "      <td>...</td>\n",
       "      <td>...</td>\n",
       "      <td>...</td>\n",
       "      <td>...</td>\n",
       "      <td>...</td>\n",
       "      <td>...</td>\n",
       "      <td>...</td>\n",
       "      <td>...</td>\n",
       "      <td>...</td>\n",
       "      <td>...</td>\n",
       "      <td>...</td>\n",
       "      <td>...</td>\n",
       "      <td>...</td>\n",
       "      <td>...</td>\n",
       "    </tr>\n",
       "    <tr>\n",
       "      <th>Cell_95</th>\n",
       "      <td>0.000000</td>\n",
       "      <td>1.609438</td>\n",
       "      <td>1.098612</td>\n",
       "      <td>0.000000</td>\n",
       "      <td>0.000000</td>\n",
       "      <td>0.693147</td>\n",
       "      <td>0.693147</td>\n",
       "      <td>0.693147</td>\n",
       "      <td>0.000000</td>\n",
       "      <td>0.693147</td>\n",
       "      <td>...</td>\n",
       "      <td>1.098612</td>\n",
       "      <td>0.000000</td>\n",
       "      <td>0.000000</td>\n",
       "      <td>0.000000</td>\n",
       "      <td>1.098612</td>\n",
       "      <td>1.098612</td>\n",
       "      <td>0.693147</td>\n",
       "      <td>0.693147</td>\n",
       "      <td>0.000000</td>\n",
       "      <td>0.693147</td>\n",
       "    </tr>\n",
       "    <tr>\n",
       "      <th>Cell_96</th>\n",
       "      <td>1.386294</td>\n",
       "      <td>0.000000</td>\n",
       "      <td>0.000000</td>\n",
       "      <td>0.693147</td>\n",
       "      <td>0.000000</td>\n",
       "      <td>0.000000</td>\n",
       "      <td>0.693147</td>\n",
       "      <td>0.693147</td>\n",
       "      <td>0.693147</td>\n",
       "      <td>0.000000</td>\n",
       "      <td>...</td>\n",
       "      <td>1.098612</td>\n",
       "      <td>0.000000</td>\n",
       "      <td>0.000000</td>\n",
       "      <td>1.609438</td>\n",
       "      <td>1.098612</td>\n",
       "      <td>0.000000</td>\n",
       "      <td>0.693147</td>\n",
       "      <td>1.098612</td>\n",
       "      <td>1.098612</td>\n",
       "      <td>0.000000</td>\n",
       "    </tr>\n",
       "    <tr>\n",
       "      <th>Cell_97</th>\n",
       "      <td>1.098612</td>\n",
       "      <td>1.386294</td>\n",
       "      <td>0.693147</td>\n",
       "      <td>0.000000</td>\n",
       "      <td>1.386294</td>\n",
       "      <td>0.693147</td>\n",
       "      <td>0.000000</td>\n",
       "      <td>0.000000</td>\n",
       "      <td>0.693147</td>\n",
       "      <td>0.000000</td>\n",
       "      <td>...</td>\n",
       "      <td>1.609438</td>\n",
       "      <td>0.693147</td>\n",
       "      <td>1.098612</td>\n",
       "      <td>1.098612</td>\n",
       "      <td>1.098612</td>\n",
       "      <td>1.609438</td>\n",
       "      <td>0.693147</td>\n",
       "      <td>0.000000</td>\n",
       "      <td>0.000000</td>\n",
       "      <td>0.693147</td>\n",
       "    </tr>\n",
       "    <tr>\n",
       "      <th>Cell_98</th>\n",
       "      <td>0.000000</td>\n",
       "      <td>1.098612</td>\n",
       "      <td>1.386294</td>\n",
       "      <td>1.098612</td>\n",
       "      <td>0.000000</td>\n",
       "      <td>0.693147</td>\n",
       "      <td>0.693147</td>\n",
       "      <td>0.693147</td>\n",
       "      <td>0.693147</td>\n",
       "      <td>0.000000</td>\n",
       "      <td>...</td>\n",
       "      <td>0.000000</td>\n",
       "      <td>0.000000</td>\n",
       "      <td>0.000000</td>\n",
       "      <td>0.693147</td>\n",
       "      <td>0.693147</td>\n",
       "      <td>0.693147</td>\n",
       "      <td>0.693147</td>\n",
       "      <td>0.693147</td>\n",
       "      <td>0.693147</td>\n",
       "      <td>0.693147</td>\n",
       "    </tr>\n",
       "    <tr>\n",
       "      <th>Cell_99</th>\n",
       "      <td>0.000000</td>\n",
       "      <td>0.693147</td>\n",
       "      <td>1.098612</td>\n",
       "      <td>0.000000</td>\n",
       "      <td>1.609438</td>\n",
       "      <td>1.386294</td>\n",
       "      <td>0.693147</td>\n",
       "      <td>0.693147</td>\n",
       "      <td>0.693147</td>\n",
       "      <td>0.693147</td>\n",
       "      <td>...</td>\n",
       "      <td>0.693147</td>\n",
       "      <td>0.693147</td>\n",
       "      <td>1.386294</td>\n",
       "      <td>0.000000</td>\n",
       "      <td>0.693147</td>\n",
       "      <td>0.000000</td>\n",
       "      <td>0.000000</td>\n",
       "      <td>0.693147</td>\n",
       "      <td>0.693147</td>\n",
       "      <td>1.098612</td>\n",
       "    </tr>\n",
       "  </tbody>\n",
       "</table>\n",
       "<p>100 rows × 2000 columns</p>\n",
       "</div>"
      ],
      "text/plain": [
       "           Gene_0    Gene_1    Gene_2    Gene_3    Gene_4    Gene_5    Gene_6  \\\n",
       "Cell_0   0.693147  0.000000  1.098612  0.000000  0.000000  1.609438  1.098612   \n",
       "Cell_1   1.098612  0.000000  0.693147  1.098612  1.098612  0.000000  1.098612   \n",
       "Cell_2   1.098612  0.693147  0.693147  0.693147  0.693147  0.000000  1.098612   \n",
       "Cell_3   0.000000  0.693147  0.693147  0.000000  0.693147  0.693147  0.000000   \n",
       "Cell_4   0.000000  0.693147  0.000000  0.693147  1.386294  0.000000  1.609438   \n",
       "...           ...       ...       ...       ...       ...       ...       ...   \n",
       "Cell_95  0.000000  1.609438  1.098612  0.000000  0.000000  0.693147  0.693147   \n",
       "Cell_96  1.386294  0.000000  0.000000  0.693147  0.000000  0.000000  0.693147   \n",
       "Cell_97  1.098612  1.386294  0.693147  0.000000  1.386294  0.693147  0.000000   \n",
       "Cell_98  0.000000  1.098612  1.386294  1.098612  0.000000  0.693147  0.693147   \n",
       "Cell_99  0.000000  0.693147  1.098612  0.000000  1.609438  1.386294  0.693147   \n",
       "\n",
       "           Gene_7    Gene_8    Gene_9  ...  Gene_1990  Gene_1991  Gene_1992  \\\n",
       "Cell_0   0.693147  0.000000  0.000000  ...   1.098612   0.000000   0.000000   \n",
       "Cell_1   0.693147  0.000000  0.693147  ...   1.098612   0.000000   0.693147   \n",
       "Cell_2   0.000000  1.386294  0.693147  ...   1.098612   0.000000   0.000000   \n",
       "Cell_3   0.693147  0.000000  0.693147  ...   0.000000   0.000000   0.000000   \n",
       "Cell_4   0.000000  0.000000  0.693147  ...   0.000000   0.693147   0.693147   \n",
       "...           ...       ...       ...  ...        ...        ...        ...   \n",
       "Cell_95  0.693147  0.000000  0.693147  ...   1.098612   0.000000   0.000000   \n",
       "Cell_96  0.693147  0.693147  0.000000  ...   1.098612   0.000000   0.000000   \n",
       "Cell_97  0.000000  0.693147  0.000000  ...   1.609438   0.693147   1.098612   \n",
       "Cell_98  0.693147  0.693147  0.000000  ...   0.000000   0.000000   0.000000   \n",
       "Cell_99  0.693147  0.693147  0.693147  ...   0.693147   0.693147   1.386294   \n",
       "\n",
       "         Gene_1993  Gene_1994  Gene_1995  Gene_1996  Gene_1997  Gene_1998  \\\n",
       "Cell_0    1.098612   0.000000   0.693147   1.386294   0.693147   0.693147   \n",
       "Cell_1    0.693147   0.000000   0.693147   0.000000   0.000000   0.693147   \n",
       "Cell_2    1.098612   1.098612   0.693147   0.000000   1.098612   0.000000   \n",
       "Cell_3    1.609438   1.098612   0.693147   0.693147   1.098612   0.000000   \n",
       "Cell_4    0.000000   0.693147   1.098612   0.693147   0.693147   1.098612   \n",
       "...            ...        ...        ...        ...        ...        ...   \n",
       "Cell_95   0.000000   1.098612   1.098612   0.693147   0.693147   0.000000   \n",
       "Cell_96   1.609438   1.098612   0.000000   0.693147   1.098612   1.098612   \n",
       "Cell_97   1.098612   1.098612   1.609438   0.693147   0.000000   0.000000   \n",
       "Cell_98   0.693147   0.693147   0.693147   0.693147   0.693147   0.693147   \n",
       "Cell_99   0.000000   0.693147   0.000000   0.000000   0.693147   0.693147   \n",
       "\n",
       "         Gene_1999  \n",
       "Cell_0    0.000000  \n",
       "Cell_1    0.000000  \n",
       "Cell_2    0.693147  \n",
       "Cell_3    0.000000  \n",
       "Cell_4    1.386294  \n",
       "...            ...  \n",
       "Cell_95   0.693147  \n",
       "Cell_96   0.000000  \n",
       "Cell_97   0.693147  \n",
       "Cell_98   0.693147  \n",
       "Cell_99   1.098612  \n",
       "\n",
       "[100 rows x 2000 columns]"
      ]
     },
     "execution_count": 38,
     "metadata": {},
     "output_type": "execute_result"
    }
   ],
   "source": [
    "adata.to_df(layer=\"log_transformed\")"
   ]
  },
  {
   "cell_type": "markdown",
   "id": "29aabe19",
   "metadata": {},
   "source": [
    "我们看到 .obs_names/.var_names 被用于创建这个 Pandas 对象。"
   ]
  },
  {
   "cell_type": "markdown",
   "id": "95e35eb0",
   "metadata": {},
   "source": [
    "# Writing the results to disk"
   ]
  },
  {
   "cell_type": "markdown",
   "id": "e9203c81",
   "metadata": {},
   "source": [
    "AnnData 带有自己的基于 HDF5 的持久文件格式：h5ad。如果类别数量较少的字符串列还不是类别，AnnData 将自动转换为类别。"
   ]
  },
  {
   "cell_type": "code",
   "execution_count": 39,
   "id": "13dfcfb6",
   "metadata": {},
   "outputs": [],
   "source": [
    "adata.write('my_results.h5ad', compression=\"gzip\")"
   ]
  },
  {
   "cell_type": "markdown",
   "id": "03e1f9b4",
   "metadata": {},
   "source": [
    "# Wrapping up the introduction"
   ]
  },
  {
   "cell_type": "markdown",
   "id": "32fce712",
   "metadata": {},
   "source": [
    "AnnData 已成为 Python 中单细胞分析的标准，这是有充分理由的——它使用简单，并通过其基于 key 的存储促进了更多可重复的分析。转换为流行的基于 R 的格式进行单细胞分析甚至变得更加容易。"
   ]
  },
  {
   "cell_type": "markdown",
   "id": "a0204e06",
   "metadata": {},
   "source": [
    "# Views and copies"
   ]
  },
  {
   "cell_type": "markdown",
   "id": "a68cb2c1",
   "metadata": {},
   "source": [
    "为了好玩，让我们看看另一个 metadata 的使用场景。想象一下，观察结果来自一项多年研究中表征 10 个读数的仪器，该研究的样本取自不同地点的不同受试者。我们通常会以某种格式获取该信息，然后将其存储在 DataFrame 中："
   ]
  },
  {
   "cell_type": "code",
   "execution_count": 42,
   "id": "ccf11835",
   "metadata": {},
   "outputs": [],
   "source": [
    "obs_meta = pd.DataFrame({\n",
    "        'time_yr': np.random.choice([0, 2, 4, 8], adata.n_obs),\n",
    "        'subject_id': np.random.choice(['subject 1', 'subject 2', 'subject 4', 'subject 8'], adata.n_obs),\n",
    "        'instrument_type': np.random.choice(['type a', 'type b'], adata.n_obs),\n",
    "        'site': np.random.choice(['site x', 'site y'], adata.n_obs),\n",
    "    },\n",
    "    index=adata.obs.index,    # these are the same IDs of observations as above!\n",
    ")"
   ]
  },
  {
   "cell_type": "code",
   "execution_count": 43,
   "id": "84f314d6",
   "metadata": {},
   "outputs": [
    {
     "data": {
      "text/html": [
       "<div>\n",
       "<style scoped>\n",
       "    .dataframe tbody tr th:only-of-type {\n",
       "        vertical-align: middle;\n",
       "    }\n",
       "\n",
       "    .dataframe tbody tr th {\n",
       "        vertical-align: top;\n",
       "    }\n",
       "\n",
       "    .dataframe thead th {\n",
       "        text-align: right;\n",
       "    }\n",
       "</style>\n",
       "<table border=\"1\" class=\"dataframe\">\n",
       "  <thead>\n",
       "    <tr style=\"text-align: right;\">\n",
       "      <th></th>\n",
       "      <th>time_yr</th>\n",
       "      <th>subject_id</th>\n",
       "      <th>instrument_type</th>\n",
       "      <th>site</th>\n",
       "    </tr>\n",
       "  </thead>\n",
       "  <tbody>\n",
       "    <tr>\n",
       "      <th>Cell_0</th>\n",
       "      <td>8</td>\n",
       "      <td>subject 1</td>\n",
       "      <td>type b</td>\n",
       "      <td>site y</td>\n",
       "    </tr>\n",
       "    <tr>\n",
       "      <th>Cell_1</th>\n",
       "      <td>2</td>\n",
       "      <td>subject 2</td>\n",
       "      <td>type b</td>\n",
       "      <td>site x</td>\n",
       "    </tr>\n",
       "    <tr>\n",
       "      <th>Cell_2</th>\n",
       "      <td>4</td>\n",
       "      <td>subject 8</td>\n",
       "      <td>type b</td>\n",
       "      <td>site x</td>\n",
       "    </tr>\n",
       "    <tr>\n",
       "      <th>Cell_3</th>\n",
       "      <td>4</td>\n",
       "      <td>subject 2</td>\n",
       "      <td>type b</td>\n",
       "      <td>site y</td>\n",
       "    </tr>\n",
       "    <tr>\n",
       "      <th>Cell_4</th>\n",
       "      <td>2</td>\n",
       "      <td>subject 8</td>\n",
       "      <td>type a</td>\n",
       "      <td>site y</td>\n",
       "    </tr>\n",
       "    <tr>\n",
       "      <th>...</th>\n",
       "      <td>...</td>\n",
       "      <td>...</td>\n",
       "      <td>...</td>\n",
       "      <td>...</td>\n",
       "    </tr>\n",
       "    <tr>\n",
       "      <th>Cell_95</th>\n",
       "      <td>2</td>\n",
       "      <td>subject 1</td>\n",
       "      <td>type a</td>\n",
       "      <td>site y</td>\n",
       "    </tr>\n",
       "    <tr>\n",
       "      <th>Cell_96</th>\n",
       "      <td>8</td>\n",
       "      <td>subject 4</td>\n",
       "      <td>type a</td>\n",
       "      <td>site x</td>\n",
       "    </tr>\n",
       "    <tr>\n",
       "      <th>Cell_97</th>\n",
       "      <td>8</td>\n",
       "      <td>subject 4</td>\n",
       "      <td>type b</td>\n",
       "      <td>site y</td>\n",
       "    </tr>\n",
       "    <tr>\n",
       "      <th>Cell_98</th>\n",
       "      <td>4</td>\n",
       "      <td>subject 8</td>\n",
       "      <td>type a</td>\n",
       "      <td>site x</td>\n",
       "    </tr>\n",
       "    <tr>\n",
       "      <th>Cell_99</th>\n",
       "      <td>8</td>\n",
       "      <td>subject 4</td>\n",
       "      <td>type b</td>\n",
       "      <td>site x</td>\n",
       "    </tr>\n",
       "  </tbody>\n",
       "</table>\n",
       "<p>100 rows × 4 columns</p>\n",
       "</div>"
      ],
      "text/plain": [
       "         time_yr subject_id instrument_type    site\n",
       "Cell_0         8  subject 1          type b  site y\n",
       "Cell_1         2  subject 2          type b  site x\n",
       "Cell_2         4  subject 8          type b  site x\n",
       "Cell_3         4  subject 2          type b  site y\n",
       "Cell_4         2  subject 8          type a  site y\n",
       "...          ...        ...             ...     ...\n",
       "Cell_95        2  subject 1          type a  site y\n",
       "Cell_96        8  subject 4          type a  site x\n",
       "Cell_97        8  subject 4          type b  site y\n",
       "Cell_98        4  subject 8          type a  site x\n",
       "Cell_99        8  subject 4          type b  site x\n",
       "\n",
       "[100 rows x 4 columns]"
      ]
     },
     "execution_count": 43,
     "metadata": {},
     "output_type": "execute_result"
    }
   ],
   "source": [
    "obs_meta"
   ]
  },
  {
   "cell_type": "markdown",
   "id": "fcbf4cb8",
   "metadata": {},
   "source": [
    "这就是我们将读出数据与 metadata 连接起来的方式。当然，下面对 X 的调用的第一个参数也可以只是一个 DataFrame。"
   ]
  },
  {
   "cell_type": "code",
   "execution_count": 44,
   "id": "1b24561d",
   "metadata": {},
   "outputs": [],
   "source": [
    "adata = ad.AnnData(adata.X, obs=obs_meta, var=adata.var)"
   ]
  },
  {
   "cell_type": "markdown",
   "id": "aeda6d89",
   "metadata": {},
   "source": [
    "现在我们再次拥有一个跟踪所有内容的数据容器。"
   ]
  },
  {
   "cell_type": "code",
   "execution_count": 45,
   "id": "5bc9d4fd",
   "metadata": {},
   "outputs": [
    {
     "name": "stdout",
     "output_type": "stream",
     "text": [
      "AnnData object with n_obs × n_vars = 100 × 2000\n",
      "    obs: 'time_yr', 'subject_id', 'instrument_type', 'site'\n"
     ]
    }
   ],
   "source": [
    "print(adata)"
   ]
  },
  {
   "cell_type": "markdown",
   "id": "a2d33d6c",
   "metadata": {},
   "source": [
    "对联合数据矩阵进行子集化对于关注变量或观察的子集或为机器学习模型定义训练测试拆分可能很重要。"
   ]
  },
  {
   "cell_type": "markdown",
   "id": "040ca177",
   "metadata": {},
   "source": [
    "访问两个 variables 的前 5 行。"
   ]
  },
  {
   "cell_type": "code",
   "execution_count": 46,
   "id": "823e1d68",
   "metadata": {},
   "outputs": [
    {
     "data": {
      "text/plain": [
       "View of AnnData object with n_obs × n_vars = 5 × 2\n",
       "    obs: 'time_yr', 'subject_id', 'instrument_type', 'site'"
      ]
     },
     "execution_count": 46,
     "metadata": {},
     "output_type": "execute_result"
    }
   ],
   "source": [
    "adata[:5, ['Gene_1', 'Gene_3']]"
   ]
  },
  {
   "cell_type": "markdown",
   "id": "2664492d",
   "metadata": {},
   "source": [
    "这是一个视图！如果我们想要一个将数据保存在内存中的 AnnData，让我们调用 .copy()"
   ]
  },
  {
   "cell_type": "code",
   "execution_count": 47,
   "id": "5afd3b58",
   "metadata": {},
   "outputs": [],
   "source": [
    "adata_subset = adata[:5, ['Gene_1', 'Gene_3']].copy()"
   ]
  },
  {
   "cell_type": "markdown",
   "id": "620bdb10",
   "metadata": {},
   "source": [
    "对于视图，我们还可以设置列的前 3 个元素。"
   ]
  },
  {
   "cell_type": "code",
   "execution_count": 49,
   "id": "5410e251",
   "metadata": {},
   "outputs": [
    {
     "name": "stdout",
     "output_type": "stream",
     "text": [
      "[[0.0], [0.0], [1.0]]\n",
      "[[0.0], [0.0], [0.0]]\n"
     ]
    }
   ],
   "source": [
    "print(adata[:3, 'Gene_1'].X.toarray().tolist())\n",
    "adata[:3, 'Gene_1'].X = [0, 0, 0]\n",
    "print(adata[:3, 'Gene_1'].X.toarray().tolist())"
   ]
  },
  {
   "cell_type": "markdown",
   "id": "fa9bd2ba",
   "metadata": {},
   "source": [
    "如果您尝试访问 AnnData 视图的部分内容，则会自动复制内容并生成数据存储对象。"
   ]
  },
  {
   "cell_type": "code",
   "execution_count": 51,
   "id": "e550b848",
   "metadata": {},
   "outputs": [],
   "source": [
    "adata_subset = adata[:3, ['Gene_1', 'Gene_2']]"
   ]
  },
  {
   "cell_type": "code",
   "execution_count": 52,
   "id": "a30b38aa",
   "metadata": {},
   "outputs": [
    {
     "data": {
      "text/plain": [
       "View of AnnData object with n_obs × n_vars = 3 × 2\n",
       "    obs: 'time_yr', 'subject_id', 'instrument_type', 'site'"
      ]
     },
     "execution_count": 52,
     "metadata": {},
     "output_type": "execute_result"
    }
   ],
   "source": [
    "adata_subset"
   ]
  },
  {
   "cell_type": "code",
   "execution_count": 53,
   "id": "8c14e0b5",
   "metadata": {},
   "outputs": [
    {
     "name": "stderr",
     "output_type": "stream",
     "text": [
      "/tmp/ipykernel_468/2955902014.py:1: ImplicitModificationWarning: Trying to modify attribute `.obs` of view, initializing view as actual.\n",
      "  adata_subset.obs['foo'] = range(3)\n"
     ]
    }
   ],
   "source": [
    "adata_subset.obs['foo'] = range(3)"
   ]
  },
  {
   "cell_type": "markdown",
   "id": "3a9f9d07",
   "metadata": {},
   "source": [
    "现在 adata_subset 存储实际数据，不再只是对 adata 的引用。"
   ]
  },
  {
   "cell_type": "code",
   "execution_count": 55,
   "id": "448e4108",
   "metadata": {},
   "outputs": [
    {
     "data": {
      "text/plain": [
       "AnnData object with n_obs × n_vars = 3 × 2\n",
       "    obs: 'time_yr', 'subject_id', 'instrument_type', 'site', 'foo'"
      ]
     },
     "execution_count": 55,
     "metadata": {},
     "output_type": "execute_result"
    }
   ],
   "source": [
    "adata_subset"
   ]
  },
  {
   "cell_type": "markdown",
   "id": "48b91ffa",
   "metadata": {},
   "source": [
    "显然，您可以使用所有 pandas 对序列或布尔索引进行切片。"
   ]
  },
  {
   "cell_type": "code",
   "execution_count": 57,
   "id": "22bfd8da",
   "metadata": {},
   "outputs": [
    {
     "data": {
      "text/html": [
       "<div>\n",
       "<style scoped>\n",
       "    .dataframe tbody tr th:only-of-type {\n",
       "        vertical-align: middle;\n",
       "    }\n",
       "\n",
       "    .dataframe tbody tr th {\n",
       "        vertical-align: top;\n",
       "    }\n",
       "\n",
       "    .dataframe thead th {\n",
       "        text-align: right;\n",
       "    }\n",
       "</style>\n",
       "<table border=\"1\" class=\"dataframe\">\n",
       "  <thead>\n",
       "    <tr style=\"text-align: right;\">\n",
       "      <th></th>\n",
       "      <th>time_yr</th>\n",
       "      <th>subject_id</th>\n",
       "      <th>instrument_type</th>\n",
       "      <th>site</th>\n",
       "    </tr>\n",
       "  </thead>\n",
       "  <tbody>\n",
       "    <tr>\n",
       "      <th>Cell_1</th>\n",
       "      <td>2</td>\n",
       "      <td>subject 2</td>\n",
       "      <td>type b</td>\n",
       "      <td>site x</td>\n",
       "    </tr>\n",
       "    <tr>\n",
       "      <th>Cell_2</th>\n",
       "      <td>4</td>\n",
       "      <td>subject 8</td>\n",
       "      <td>type b</td>\n",
       "      <td>site x</td>\n",
       "    </tr>\n",
       "    <tr>\n",
       "      <th>Cell_3</th>\n",
       "      <td>4</td>\n",
       "      <td>subject 2</td>\n",
       "      <td>type b</td>\n",
       "      <td>site y</td>\n",
       "    </tr>\n",
       "    <tr>\n",
       "      <th>Cell_4</th>\n",
       "      <td>2</td>\n",
       "      <td>subject 8</td>\n",
       "      <td>type a</td>\n",
       "      <td>site y</td>\n",
       "    </tr>\n",
       "    <tr>\n",
       "      <th>Cell_5</th>\n",
       "      <td>2</td>\n",
       "      <td>subject 1</td>\n",
       "      <td>type b</td>\n",
       "      <td>site x</td>\n",
       "    </tr>\n",
       "  </tbody>\n",
       "</table>\n",
       "</div>"
      ],
      "text/plain": [
       "        time_yr subject_id instrument_type    site\n",
       "Cell_1        2  subject 2          type b  site x\n",
       "Cell_2        4  subject 8          type b  site x\n",
       "Cell_3        4  subject 2          type b  site y\n",
       "Cell_4        2  subject 8          type a  site y\n",
       "Cell_5        2  subject 1          type b  site x"
      ]
     },
     "execution_count": 57,
     "metadata": {},
     "output_type": "execute_result"
    }
   ],
   "source": [
    "adata[adata.obs.time_yr.isin([2, 4])].obs.head()"
   ]
  },
  {
   "cell_type": "markdown",
   "id": "ae1345a6",
   "metadata": {},
   "source": [
    "# Partial reading of large data"
   ]
  },
  {
   "cell_type": "markdown",
   "id": "d7676bed",
   "metadata": {},
   "source": [
    "如果单个 .h5ad 非常大，您可以使用支持模式将其部分读入内存："
   ]
  },
  {
   "cell_type": "code",
   "execution_count": 58,
   "id": "cd2f451c",
   "metadata": {},
   "outputs": [],
   "source": [
    "adata = ad.read('my_results.h5ad', backed='r')"
   ]
  },
  {
   "cell_type": "code",
   "execution_count": 59,
   "id": "ecc14e70",
   "metadata": {},
   "outputs": [
    {
     "data": {
      "text/plain": [
       "True"
      ]
     },
     "execution_count": 59,
     "metadata": {},
     "output_type": "execute_result"
    }
   ],
   "source": [
    "adata.isbacked"
   ]
  },
  {
   "cell_type": "markdown",
   "id": "5eb7dabd",
   "metadata": {},
   "source": [
    "如果你这样做，你需要记住 AnnData 对象与用于读取的文件有一个打开的连接："
   ]
  },
  {
   "cell_type": "code",
   "execution_count": 60,
   "id": "0f42dc12",
   "metadata": {},
   "outputs": [
    {
     "data": {
      "text/plain": [
       "PosixPath('my_results.h5ad')"
      ]
     },
     "execution_count": 60,
     "metadata": {},
     "output_type": "execute_result"
    }
   ],
   "source": [
    "adata.filename"
   ]
  },
  {
   "cell_type": "markdown",
   "id": "34a44d4f",
   "metadata": {},
   "source": [
    "由于我们在只读模式下使用它，我们不能损坏任何东西。要继续本教程，我们仍然需要显式关闭它："
   ]
  },
  {
   "cell_type": "code",
   "execution_count": 61,
   "id": "54946e07",
   "metadata": {},
   "outputs": [],
   "source": [
    "adata.file.close()"
   ]
  },
  {
   "cell_type": "markdown",
   "id": "0294acd0",
   "metadata": {},
   "source": [
    "像往常一样，您应该使用 with 语句来避免悬空打开的文件（即将推出的功能）。"
   ]
  },
  {
   "cell_type": "markdown",
   "id": "d6bd6ebe",
   "metadata": {},
   "source": [
    "操作磁盘上的对象是可能的，但对于稀疏数据是实验性的。因此，我们将其排除在本教程之外。"
   ]
  }
 ],
 "metadata": {
  "kernelspec": {
   "display_name": "scRNAseq",
   "language": "python",
   "name": "scrnaseq"
  },
  "language_info": {
   "codemirror_mode": {
    "name": "ipython",
    "version": 3
   },
   "file_extension": ".py",
   "mimetype": "text/x-python",
   "name": "python",
   "nbconvert_exporter": "python",
   "pygments_lexer": "ipython3",
   "version": "3.10.4"
  }
 },
 "nbformat": 4,
 "nbformat_minor": 5
}
